{
 "cells": [
  {
   "cell_type": "markdown",
   "id": "40df6730-2329-4fba-bb6a-086eb75bc11d",
   "metadata": {},
   "source": [
    "TYPE CASTING OR TYPE CONSERVATION  IN PYTHON"
   ]
  },
  {
   "cell_type": "markdown",
   "id": "f893f392-c0f4-446c-b6f4-f640818c5a99",
   "metadata": {},
   "source": [
    "What is type conservation or Type casting ?\n",
    "\n",
    "When we convert one data type to another datatype is called type casting or type conversion.\n",
    "\n",
    "\n"
   ]
  },
  {
   "cell_type": "markdown",
   "id": "5650d306",
   "metadata": {},
   "source": [
    "INT to OTHER"
   ]
  },
  {
   "cell_type": "code",
   "execution_count": null,
   "id": "16e92fdb-5691-4f2a-b0cf-aff5b8d7974e",
   "metadata": {},
   "outputs": [
    {
     "data": {
      "text/plain": [
       "2"
      ]
     },
     "execution_count": 5,
     "metadata": {},
     "output_type": "execute_result"
    }
   ],
   "source": [
    "int(2.3)   #this is a float datatype argument but when we code as int(2.3) it convert into int data type"
   ]
  },
  {
   "cell_type": "code",
   "execution_count": null,
   "id": "6c80b9a1-cdb0-40bf-bc30-1867f568332b",
   "metadata": {},
   "outputs": [
    {
     "data": {
      "text/plain": [
       "int"
      ]
     },
     "execution_count": 6,
     "metadata": {},
     "output_type": "execute_result"
    }
   ],
   "source": [
    "type(int(2.3))  # float to int type casting possible"
   ]
  },
  {
   "cell_type": "code",
   "execution_count": null,
   "id": "1ab11086-2ffa-45f9-a397-0d54890aa129",
   "metadata": {},
   "outputs": [
    {
     "ename": "TypeError",
     "evalue": "'float' object cannot be interpreted as an integer",
     "output_type": "error",
     "traceback": [
      "\u001b[31m---------------------------------------------------------------------------\u001b[39m",
      "\u001b[31mTypeError\u001b[39m                                 Traceback (most recent call last)",
      "\u001b[36mCell\u001b[39m\u001b[36m \u001b[39m\u001b[32mIn[7]\u001b[39m\u001b[32m, line 1\u001b[39m\n\u001b[32m----> \u001b[39m\u001b[32m1\u001b[39m \u001b[38;5;28;43mint\u001b[39;49m\u001b[43m(\u001b[49m\u001b[32;43m2.3\u001b[39;49m\u001b[43m,\u001b[49m\u001b[32;43m4.5\u001b[39;49m\u001b[43m)\u001b[49m\n",
      "\u001b[31mTypeError\u001b[39m: 'float' object cannot be interpreted as an integer"
     ]
    }
   ],
   "source": [
    "int(2.3,4.5) # we can not take 2 arguments for type casting"
   ]
  },
  {
   "cell_type": "code",
   "execution_count": 9,
   "id": "7bb906ba-da4f-4e8d-a994-b34e959222f6",
   "metadata": {},
   "outputs": [
    {
     "name": "stdout",
     "output_type": "stream",
     "text": [
      "1\n",
      "0\n"
     ]
    }
   ],
   "source": [
    "print(int(True))\n",
    "print(int(False))     # bool to int possible"
   ]
  },
  {
   "cell_type": "code",
   "execution_count": null,
   "id": "6286b2d5-7c50-4e3d-ac3c-19d1bcacf46e",
   "metadata": {},
   "outputs": [
    {
     "name": "stdout",
     "output_type": "stream",
     "text": [
      "10\n",
      "<class 'int'>\n"
     ]
    }
   ],
   "source": [
    "print(int('10'))      # string to int possible\n",
    "print(type(int('10')))"
   ]
  },
  {
   "cell_type": "code",
   "execution_count": null,
   "id": "7f9f0560",
   "metadata": {},
   "outputs": [
    {
     "ename": "ValueError",
     "evalue": "invalid literal for int() with base 10: 'one'",
     "output_type": "error",
     "traceback": [
      "\u001b[31m---------------------------------------------------------------------------\u001b[39m",
      "\u001b[31mValueError\u001b[39m                                Traceback (most recent call last)",
      "\u001b[36mCell\u001b[39m\u001b[36m \u001b[39m\u001b[32mIn[13]\u001b[39m\u001b[32m, line 1\u001b[39m\n\u001b[32m----> \u001b[39m\u001b[32m1\u001b[39m \u001b[38;5;28mprint\u001b[39m(\u001b[38;5;28;43mint\u001b[39;49m\u001b[43m(\u001b[49m\u001b[33;43m'\u001b[39;49m\u001b[33;43mone\u001b[39;49m\u001b[33;43m'\u001b[39;49m\u001b[43m)\u001b[49m)\n",
      "\u001b[31mValueError\u001b[39m: invalid literal for int() with base 10: 'one'"
     ]
    }
   ],
   "source": [
    "print(int('one'))   # string we write in text is not possible type casting into int."
   ]
  },
  {
   "cell_type": "code",
   "execution_count": null,
   "id": "8470ce87-c42d-4b20-a0cb-8adc6d9c2e5c",
   "metadata": {},
   "outputs": [
    {
     "ename": "TypeError",
     "evalue": "int() argument must be a string, a bytes-like object or a real number, not 'complex'",
     "output_type": "error",
     "traceback": [
      "\u001b[31m---------------------------------------------------------------------------\u001b[39m",
      "\u001b[31mTypeError\u001b[39m                                 Traceback (most recent call last)",
      "\u001b[36mCell\u001b[39m\u001b[36m \u001b[39m\u001b[32mIn[12]\u001b[39m\u001b[32m, line 1\u001b[39m\n\u001b[32m----> \u001b[39m\u001b[32m1\u001b[39m \u001b[38;5;28mprint\u001b[39m(\u001b[38;5;28;43mint\u001b[39;49m\u001b[43m(\u001b[49m\u001b[32;43m1\u001b[39;49m\u001b[43m+\u001b[49m\u001b[32;43m2\u001b[39;49m\u001b[43mj\u001b[49m\u001b[43m)\u001b[49m)\n",
      "\u001b[31mTypeError\u001b[39m: int() argument must be a string, a bytes-like object or a real number, not 'complex'"
     ]
    }
   ],
   "source": [
    "print(int(1+2j))    # complex to int not possible"
   ]
  },
  {
   "cell_type": "markdown",
   "id": "60d195d9",
   "metadata": {},
   "source": [
    "FROM ALL OTHER DATATYPE TO INT TYPE CASTING IS POSSIBLE EXCEPT COMPLEX AND STRING WITH TEXT."
   ]
  },
  {
   "cell_type": "code",
   "execution_count": null,
   "id": "80895966-21e0-4134-bf14-15fa5106d37c",
   "metadata": {},
   "outputs": [],
   "source": []
  },
  {
   "cell_type": "markdown",
   "id": "1152b2a3",
   "metadata": {},
   "source": [
    "FLOAT to OTHER"
   ]
  },
  {
   "cell_type": "code",
   "execution_count": null,
   "id": "ca064fbe-3ace-444e-9885-79bb0b59fdbc",
   "metadata": {},
   "outputs": [
    {
     "name": "stdout",
     "output_type": "stream",
     "text": [
      "2.0\n"
     ]
    }
   ],
   "source": [
    "print(float(2))   # int to float is possible"
   ]
  },
  {
   "cell_type": "code",
   "execution_count": null,
   "id": "fca05dd2-0209-4516-950d-130bf18a8e94",
   "metadata": {},
   "outputs": [
    {
     "name": "stdout",
     "output_type": "stream",
     "text": [
      "0.0\n",
      "1.0\n"
     ]
    }
   ],
   "source": [
    "print(float(False))   # float to bool is possible\n",
    "print(float(True))"
   ]
  },
  {
   "cell_type": "code",
   "execution_count": null,
   "id": "ac49ad82-aa0a-44df-99f7-bac6af22e772",
   "metadata": {},
   "outputs": [
    {
     "ename": "TypeError",
     "evalue": "float() argument must be a string or a real number, not 'complex'",
     "output_type": "error",
     "traceback": [
      "\u001b[31m---------------------------------------------------------------------------\u001b[39m",
      "\u001b[31mTypeError\u001b[39m                                 Traceback (most recent call last)",
      "\u001b[36mCell\u001b[39m\u001b[36m \u001b[39m\u001b[32mIn[17]\u001b[39m\u001b[32m, line 1\u001b[39m\n\u001b[32m----> \u001b[39m\u001b[32m1\u001b[39m \u001b[38;5;28mprint\u001b[39m(\u001b[38;5;28;43mfloat\u001b[39;49m\u001b[43m(\u001b[49m\u001b[32;43m1\u001b[39;49m\u001b[43m+\u001b[49m\u001b[32;43m2\u001b[39;49m\u001b[43mj\u001b[49m\u001b[43m)\u001b[49m)\n",
      "\u001b[31mTypeError\u001b[39m: float() argument must be a string or a real number, not 'complex'"
     ]
    }
   ],
   "source": [
    "print(float(1+2j))   # complex to float is not possible"
   ]
  },
  {
   "cell_type": "code",
   "execution_count": null,
   "id": "65086aa8-a4fe-45fa-a136-6c91ac2a2cbd",
   "metadata": {},
   "outputs": [
    {
     "name": "stdout",
     "output_type": "stream",
     "text": [
      "2.0\n"
     ]
    }
   ],
   "source": [
    "print(float('2'))   # string with number to float is possible"
   ]
  },
  {
   "cell_type": "code",
   "execution_count": null,
   "id": "285a8d21-59cf-46cd-b946-d22d965a77ad",
   "metadata": {},
   "outputs": [
    {
     "ename": "ValueError",
     "evalue": "could not convert string to float: 'one'",
     "output_type": "error",
     "traceback": [
      "\u001b[31m---------------------------------------------------------------------------\u001b[39m",
      "\u001b[31mValueError\u001b[39m                                Traceback (most recent call last)",
      "\u001b[36mCell\u001b[39m\u001b[36m \u001b[39m\u001b[32mIn[19]\u001b[39m\u001b[32m, line 1\u001b[39m\n\u001b[32m----> \u001b[39m\u001b[32m1\u001b[39m \u001b[38;5;28mprint\u001b[39m(\u001b[38;5;28;43mfloat\u001b[39;49m\u001b[43m(\u001b[49m\u001b[33;43m'\u001b[39;49m\u001b[33;43mone\u001b[39;49m\u001b[33;43m'\u001b[39;49m\u001b[43m)\u001b[49m)\n",
      "\u001b[31mValueError\u001b[39m: could not convert string to float: 'one'"
     ]
    }
   ],
   "source": [
    "print(float('one'))  # string with text to float is not possible"
   ]
  },
  {
   "cell_type": "markdown",
   "id": "9da84831",
   "metadata": {},
   "source": [
    "FROM ALL OTHER DATA TYPES TO FLOAT TYPE CASTING IS POSSIBLE EXCEPT STRING WITH TEXT"
   ]
  },
  {
   "cell_type": "code",
   "execution_count": null,
   "id": "5a1a6d1c-de89-4bec-a029-c1b9d94e10eb",
   "metadata": {},
   "outputs": [],
   "source": []
  },
  {
   "cell_type": "markdown",
   "id": "f4f54a50",
   "metadata": {},
   "source": [
    "COMPLEX to OTHER"
   ]
  },
  {
   "cell_type": "code",
   "execution_count": null,
   "id": "c6b4405a",
   "metadata": {},
   "outputs": [
    {
     "data": {
      "text/plain": [
       "(10+0j)"
      ]
     },
     "execution_count": 20,
     "metadata": {},
     "output_type": "execute_result"
    }
   ],
   "source": [
    "complex(10)  # int to complex is possible"
   ]
  },
  {
   "cell_type": "code",
   "execution_count": null,
   "id": "a2073b8a",
   "metadata": {},
   "outputs": [
    {
     "data": {
      "text/plain": [
       "(10+20j)"
      ]
     },
     "execution_count": 21,
     "metadata": {},
     "output_type": "execute_result"
    }
   ],
   "source": [
    "complex(10,20)  # int with 2 argument is possible to type cast into complex"
   ]
  },
  {
   "cell_type": "code",
   "execution_count": null,
   "id": "3ea2db43",
   "metadata": {},
   "outputs": [
    {
     "ename": "TypeError",
     "evalue": "complex() takes at most 2 arguments (3 given)",
     "output_type": "error",
     "traceback": [
      "\u001b[31m---------------------------------------------------------------------------\u001b[39m",
      "\u001b[31mTypeError\u001b[39m                                 Traceback (most recent call last)",
      "\u001b[36mCell\u001b[39m\u001b[36m \u001b[39m\u001b[32mIn[22]\u001b[39m\u001b[32m, line 1\u001b[39m\n\u001b[32m----> \u001b[39m\u001b[32m1\u001b[39m \u001b[38;5;28;43mcomplex\u001b[39;49m\u001b[43m(\u001b[49m\u001b[32;43m10\u001b[39;49m\u001b[43m,\u001b[49m\u001b[32;43m20\u001b[39;49m\u001b[43m,\u001b[49m\u001b[32;43m30\u001b[39;49m\u001b[43m)\u001b[49m\n",
      "\u001b[31mTypeError\u001b[39m: complex() takes at most 2 arguments (3 given)"
     ]
    }
   ],
   "source": [
    "complex(10,20,30)  # 3 argument is not possible because complex have only real and imaginary part"
   ]
  },
  {
   "cell_type": "code",
   "execution_count": null,
   "id": "65c12e8f",
   "metadata": {},
   "outputs": [
    {
     "data": {
      "text/plain": [
       "(2.3+5.6j)"
      ]
     },
     "execution_count": 23,
     "metadata": {},
     "output_type": "execute_result"
    }
   ],
   "source": [
    "complex(2.3,5.6)  # float to complex is possible"
   ]
  },
  {
   "cell_type": "code",
   "execution_count": null,
   "id": "716521d7",
   "metadata": {},
   "outputs": [
    {
     "data": {
      "text/plain": [
       "(2.6+0j)"
      ]
     },
     "execution_count": 24,
     "metadata": {},
     "output_type": "execute_result"
    }
   ],
   "source": [
    "complex(2.6)  # float with single argument possible"
   ]
  },
  {
   "cell_type": "code",
   "execution_count": null,
   "id": "077333aa",
   "metadata": {},
   "outputs": [
    {
     "data": {
      "text/plain": [
       "(2.3+5j)"
      ]
     },
     "execution_count": 25,
     "metadata": {},
     "output_type": "execute_result"
    }
   ],
   "source": [
    "complex(2.3,5)  # float and int mix data type to complex is possible"
   ]
  },
  {
   "cell_type": "code",
   "execution_count": 26,
   "id": "18b3f528",
   "metadata": {},
   "outputs": [
    {
     "name": "stdout",
     "output_type": "stream",
     "text": [
      "(1+0j)\n",
      "0j\n",
      "(1+1j)\n",
      "(1+0j)\n",
      "0j\n",
      "1j\n"
     ]
    }
   ],
   "source": [
    "print(complex(True))     # bool to complex is possible\n",
    "print(complex(False))\n",
    "print(complex(True,True))\n",
    "print(complex(True,False))\n",
    "print(complex(False,False))\n",
    "print(complex(False,True))"
   ]
  },
  {
   "cell_type": "code",
   "execution_count": null,
   "id": "bbddfd32",
   "metadata": {},
   "outputs": [
    {
     "name": "stdout",
     "output_type": "stream",
     "text": [
      "(2+0j)\n"
     ]
    }
   ],
   "source": [
    "print(complex('2')) # string with one argument to complex is possible.\n"
   ]
  },
  {
   "cell_type": "code",
   "execution_count": null,
   "id": "0c79915e",
   "metadata": {},
   "outputs": [
    {
     "ename": "TypeError",
     "evalue": "complex() can't take second arg if first is a string",
     "output_type": "error",
     "traceback": [
      "\u001b[31m---------------------------------------------------------------------------\u001b[39m",
      "\u001b[31mTypeError\u001b[39m                                 Traceback (most recent call last)",
      "\u001b[36mCell\u001b[39m\u001b[36m \u001b[39m\u001b[32mIn[29]\u001b[39m\u001b[32m, line 1\u001b[39m\n\u001b[32m----> \u001b[39m\u001b[32m1\u001b[39m \u001b[38;5;28mprint\u001b[39m(\u001b[38;5;28;43mcomplex\u001b[39;49m\u001b[43m(\u001b[49m\u001b[33;43m'\u001b[39;49m\u001b[33;43m2\u001b[39;49m\u001b[33;43m'\u001b[39;49m\u001b[43m,\u001b[49m\u001b[32;43m23\u001b[39;49m\u001b[43m)\u001b[49m)\n",
      "\u001b[31mTypeError\u001b[39m: complex() can't take second arg if first is a string"
     ]
    }
   ],
   "source": [
    "print(complex('2',23))   # string and int to complex is not possible\n"
   ]
  },
  {
   "cell_type": "code",
   "execution_count": null,
   "id": "e24d0693",
   "metadata": {},
   "outputs": [
    {
     "ename": "TypeError",
     "evalue": "complex() can't take second arg if first is a string",
     "output_type": "error",
     "traceback": [
      "\u001b[31m---------------------------------------------------------------------------\u001b[39m",
      "\u001b[31mTypeError\u001b[39m                                 Traceback (most recent call last)",
      "\u001b[36mCell\u001b[39m\u001b[36m \u001b[39m\u001b[32mIn[30]\u001b[39m\u001b[32m, line 1\u001b[39m\n\u001b[32m----> \u001b[39m\u001b[32m1\u001b[39m \u001b[38;5;28mprint\u001b[39m(\u001b[38;5;28;43mcomplex\u001b[39;49m\u001b[43m(\u001b[49m\u001b[33;43m'\u001b[39;49m\u001b[33;43m2\u001b[39;49m\u001b[33;43m'\u001b[39;49m\u001b[43m,\u001b[49m\u001b[33;43m'\u001b[39;49m\u001b[33;43m2\u001b[39;49m\u001b[33;43m'\u001b[39;49m\u001b[43m)\u001b[49m)\n",
      "\u001b[31mTypeError\u001b[39m: complex() can't take second arg if first is a string"
     ]
    }
   ],
   "source": [
    "print(complex('2','2'))  #string 2 argument is not possible  \n"
   ]
  },
  {
   "cell_type": "code",
   "execution_count": null,
   "id": "0a95d314",
   "metadata": {},
   "outputs": [
    {
     "ename": "ValueError",
     "evalue": "complex() arg is a malformed string",
     "output_type": "error",
     "traceback": [
      "\u001b[31m---------------------------------------------------------------------------\u001b[39m",
      "\u001b[31mValueError\u001b[39m                                Traceback (most recent call last)",
      "\u001b[36mCell\u001b[39m\u001b[36m \u001b[39m\u001b[32mIn[31]\u001b[39m\u001b[32m, line 1\u001b[39m\n\u001b[32m----> \u001b[39m\u001b[32m1\u001b[39m \u001b[38;5;28mprint\u001b[39m(\u001b[38;5;28;43mcomplex\u001b[39;49m\u001b[43m(\u001b[49m\u001b[33;43m'\u001b[39;49m\u001b[33;43mtwo\u001b[39;49m\u001b[33;43m'\u001b[39;49m\u001b[43m)\u001b[49m)\n",
      "\u001b[31mValueError\u001b[39m: complex() arg is a malformed string"
     ]
    }
   ],
   "source": [
    "print(complex('two')) # string with text to complex is not possible"
   ]
  },
  {
   "cell_type": "code",
   "execution_count": null,
   "id": "4443ad87",
   "metadata": {},
   "outputs": [
    {
     "ename": "TypeError",
     "evalue": "complex() can't take second arg if first is a string",
     "output_type": "error",
     "traceback": [
      "\u001b[31m---------------------------------------------------------------------------\u001b[39m",
      "\u001b[31mTypeError\u001b[39m                                 Traceback (most recent call last)",
      "\u001b[36mCell\u001b[39m\u001b[36m \u001b[39m\u001b[32mIn[32]\u001b[39m\u001b[32m, line 1\u001b[39m\n\u001b[32m----> \u001b[39m\u001b[32m1\u001b[39m \u001b[38;5;28mprint\u001b[39m(\u001b[38;5;28;43mcomplex\u001b[39;49m\u001b[43m(\u001b[49m\u001b[33;43m'\u001b[39;49m\u001b[33;43m2\u001b[39;49m\u001b[33;43m'\u001b[39;49m\u001b[43m,\u001b[49m\u001b[38;5;28;43;01mTrue\u001b[39;49;00m\u001b[43m)\u001b[49m)  \n",
      "\u001b[31mTypeError\u001b[39m: complex() can't take second arg if first is a string"
     ]
    }
   ],
   "source": [
    "print(complex('2',True))   # string with bool to complex is not possible"
   ]
  },
  {
   "cell_type": "markdown",
   "id": "a9b9e385",
   "metadata": {},
   "source": [
    "FROM ALL OTHER DATA TYPE TO COMPLEX POSSIBLE EXCEPT STRING WITH 2 ARGUMET, TEXT ,BOOL, INT IS NOT POSSIBLE"
   ]
  },
  {
   "cell_type": "markdown",
   "id": "693478a8",
   "metadata": {},
   "source": []
  },
  {
   "cell_type": "markdown",
   "id": "9dd77f68",
   "metadata": {},
   "source": [
    "STRING to OTHER"
   ]
  },
  {
   "cell_type": "code",
   "execution_count": null,
   "id": "9b161c58",
   "metadata": {},
   "outputs": [
    {
     "data": {
      "text/plain": [
       "'2'"
      ]
     },
     "execution_count": 33,
     "metadata": {},
     "output_type": "execute_result"
    }
   ],
   "source": [
    "str(2)  # int to string is possible"
   ]
  },
  {
   "cell_type": "code",
   "execution_count": null,
   "id": "d0d67c50",
   "metadata": {},
   "outputs": [
    {
     "data": {
      "text/plain": [
       "'2.2'"
      ]
     },
     "execution_count": 34,
     "metadata": {},
     "output_type": "execute_result"
    }
   ],
   "source": [
    "str(2.2) # float to string is possible"
   ]
  },
  {
   "cell_type": "code",
   "execution_count": null,
   "id": "5758f819",
   "metadata": {},
   "outputs": [
    {
     "data": {
      "text/plain": [
       "'(1+3j)'"
      ]
     },
     "execution_count": 35,
     "metadata": {},
     "output_type": "execute_result"
    }
   ],
   "source": [
    "str(1+3j) # complex to string is possible"
   ]
  },
  {
   "cell_type": "code",
   "execution_count": null,
   "id": "cfc2e18a",
   "metadata": {},
   "outputs": [
    {
     "data": {
      "text/plain": [
       "'True'"
      ]
     },
     "execution_count": 36,
     "metadata": {},
     "output_type": "execute_result"
    }
   ],
   "source": [
    "str(True)  # bool to string is possible"
   ]
  },
  {
   "cell_type": "markdown",
   "id": "88328147",
   "metadata": {},
   "source": [
    "FROM ALL OTHER DATA TYPE TO STRING TYPE CASTING IS POSSIBLE"
   ]
  }
 ],
 "metadata": {
  "kernelspec": {
   "display_name": "Python 3 (ipykernel)",
   "language": "python",
   "name": "python3"
  },
  "language_info": {
   "codemirror_mode": {
    "name": "ipython",
    "version": 3
   },
   "file_extension": ".py",
   "mimetype": "text/x-python",
   "name": "python",
   "nbconvert_exporter": "python",
   "pygments_lexer": "ipython3",
   "version": "3.13.5"
  }
 },
 "nbformat": 4,
 "nbformat_minor": 5
}
