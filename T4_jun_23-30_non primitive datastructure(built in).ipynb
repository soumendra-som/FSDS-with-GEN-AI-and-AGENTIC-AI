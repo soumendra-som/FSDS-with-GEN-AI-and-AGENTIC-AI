{
 "cells": [
  {
   "cell_type": "markdown",
   "id": "5ff9038d",
   "metadata": {},
   "source": [
    "# PYTHON NON PRIMITIVE (BIULT IN) DATA STRUCTURE"
   ]
  },
  {
   "cell_type": "markdown",
   "id": "56e9dc23",
   "metadata": {},
   "source": [
    "LIST DATA STRUCTURE\n",
    "\n",
    "\n",
    "1. list is an order siqunce of item.\n",
    "\n",
    "2. we can have different data types under a list. E.g we can have ingeter, float and string items in a same list."
   ]
  },
  {
   "cell_type": "markdown",
   "id": "b1661cee",
   "metadata": {},
   "source": [
    "List Creation"
   ]
  },
  {
   "cell_type": "code",
   "execution_count": 36,
   "id": "e905f0af",
   "metadata": {},
   "outputs": [],
   "source": [
    "list = []   # empty list"
   ]
  },
  {
   "cell_type": "code",
   "execution_count": 37,
   "id": "0eb56731",
   "metadata": {},
   "outputs": [
    {
     "name": "stdout",
     "output_type": "stream",
     "text": [
      "<class 'list'>\n",
      "0\n"
     ]
    }
   ],
   "source": [
    "print(type(list))\n",
    "print(len(list))"
   ]
  },
  {
   "cell_type": "code",
   "execution_count": 38,
   "id": "556a1825",
   "metadata": {},
   "outputs": [
    {
     "name": "stdout",
     "output_type": "stream",
     "text": [
      "[10, 20, 60]\n"
     ]
    }
   ],
   "source": [
    "l2=[10,20,60]  # list of integer\n",
    "print(l2)"
   ]
  },
  {
   "cell_type": "code",
   "execution_count": 39,
   "id": "8ea2b630",
   "metadata": {},
   "outputs": [
    {
     "data": {
      "text/plain": [
       "[10.3, 2.3, 60.33]"
      ]
     },
     "execution_count": 39,
     "metadata": {},
     "output_type": "execute_result"
    }
   ],
   "source": [
    "l3=[10.3,2.3,60.33]  # list of float value\n",
    "l3"
   ]
  },
  {
   "cell_type": "code",
   "execution_count": 40,
   "id": "23e7692b",
   "metadata": {},
   "outputs": [
    {
     "name": "stdout",
     "output_type": "stream",
     "text": [
      "['one', 'two', 'three']\n"
     ]
    }
   ],
   "source": [
    "l4=['one','two','three']\n",
    "print(l4)"
   ]
  },
  {
   "cell_type": "code",
   "execution_count": 41,
   "id": "10dc6710",
   "metadata": {},
   "outputs": [
    {
     "name": "stdout",
     "output_type": "stream",
     "text": [
      "['som', 25, [50, 100], [60, 180]]\n"
     ]
    }
   ],
   "source": [
    "l5=['som',25,[50,100],[60,180]]  # nested list\n",
    "print(l5)"
   ]
  },
  {
   "cell_type": "code",
   "execution_count": 42,
   "id": "9b4903a3",
   "metadata": {},
   "outputs": [
    {
     "name": "stdout",
     "output_type": "stream",
     "text": [
      "['som', 100, 3.2]\n"
     ]
    }
   ],
   "source": [
    "l6=['som',100,3.2]  # list of mixed data type\n",
    "print(l6)"
   ]
  },
  {
   "cell_type": "code",
   "execution_count": 43,
   "id": "3b54d73b",
   "metadata": {},
   "outputs": [
    {
     "name": "stdout",
     "output_type": "stream",
     "text": [
      "['som', 25, [20, 100], [60, 180], {'jonhy', 'thor'}]\n"
     ]
    }
   ],
   "source": [
    "l7=['som',25,[20,100],[60,180],{'jonhy','thor'}]\n",
    "print(l7)"
   ]
  },
  {
   "cell_type": "markdown",
   "id": "ba12c73d",
   "metadata": {},
   "source": [
    "List Indexing\n",
    "\n",
    "indexing in python is a way to access individual elements if iterable data types such as list,tuples and arrays using their position(index).\n",
    "\n",
    "\n",
    "* indexing is 2 types :\n",
    "\n",
    "1.positive indexing: index start from 0 and goes forword.\n",
    "\n",
    "2.negative indexing: index starts from -1(last item) and goes backword. it is use full to access elements from the end."
   ]
  },
  {
   "cell_type": "code",
   "execution_count": 44,
   "id": "4fff8326",
   "metadata": {},
   "outputs": [
    {
     "name": "stdout",
     "output_type": "stream",
     "text": [
      "[10, 20, 60]\n"
     ]
    }
   ],
   "source": [
    "print(l2)"
   ]
  },
  {
   "cell_type": "code",
   "execution_count": 45,
   "id": "b1d3574c",
   "metadata": {},
   "outputs": [
    {
     "data": {
      "text/plain": [
       "10"
      ]
     },
     "execution_count": 45,
     "metadata": {},
     "output_type": "execute_result"
    }
   ],
   "source": [
    "l2[0]"
   ]
  },
  {
   "cell_type": "code",
   "execution_count": 46,
   "id": "2f217bf9",
   "metadata": {},
   "outputs": [
    {
     "name": "stdout",
     "output_type": "stream",
     "text": [
      "['one', 'two', 'three']\n"
     ]
    }
   ],
   "source": [
    "print(l4)"
   ]
  },
  {
   "cell_type": "code",
   "execution_count": 47,
   "id": "ae765286",
   "metadata": {},
   "outputs": [
    {
     "data": {
      "text/plain": [
       "'one'"
      ]
     },
     "execution_count": 47,
     "metadata": {},
     "output_type": "execute_result"
    }
   ],
   "source": [
    "l4[0]  # retrive the 1st element of the list"
   ]
  },
  {
   "cell_type": "code",
   "execution_count": 48,
   "id": "6c0eb0e6",
   "metadata": {},
   "outputs": [
    {
     "data": {
      "text/plain": [
       "'o'"
      ]
     },
     "execution_count": 48,
     "metadata": {},
     "output_type": "execute_result"
    }
   ],
   "source": [
    "l4[0][0]   #nested indexing - access the first chracter of the 1st list element"
   ]
  },
  {
   "cell_type": "code",
   "execution_count": 49,
   "id": "06b77b8d",
   "metadata": {},
   "outputs": [
    {
     "data": {
      "text/plain": [
       "'three'"
      ]
     },
     "execution_count": 49,
     "metadata": {},
     "output_type": "execute_result"
    }
   ],
   "source": [
    "l4[-1]   # negative indexing to access the last item of the list"
   ]
  },
  {
   "cell_type": "code",
   "execution_count": 50,
   "id": "a37e6007",
   "metadata": {},
   "outputs": [
    {
     "data": {
      "text/plain": [
       "['som', 25, [50, 100], [60, 180]]"
      ]
     },
     "execution_count": 50,
     "metadata": {},
     "output_type": "execute_result"
    }
   ],
   "source": [
    "l5"
   ]
  },
  {
   "cell_type": "code",
   "execution_count": 51,
   "id": "145144ee",
   "metadata": {},
   "outputs": [
    {
     "data": {
      "text/plain": [
       "[60, 180]"
      ]
     },
     "execution_count": 51,
     "metadata": {},
     "output_type": "execute_result"
    }
   ],
   "source": [
    "l5[-1]"
   ]
  },
  {
   "cell_type": "markdown",
   "id": "6e1c5c8e",
   "metadata": {},
   "source": [
    "List Slicing\n",
    "\n",
    "* slicing is technique in python used to extraxt a protion of a sequences like :\n",
    "\n",
    " LIST\n",
    "\n",
    " STRING\n",
    "\n",
    " TUPLES\n",
    "\n",
    " ARRAYS (Numpy)"
   ]
  },
  {
   "cell_type": "code",
   "execution_count": 52,
   "id": "2912f4df",
   "metadata": {},
   "outputs": [
    {
     "name": "stdout",
     "output_type": "stream",
     "text": [
      "['one', 'two', 'three', 'four', 'five', 'six', 'seven', 'eight']\n"
     ]
    }
   ],
   "source": [
    "m_l =  ['one' , 'two' , 'three' , 'four' , 'five' , 'six' , 'seven' , 'eight']\n",
    "print(m_l) \n"
   ]
  },
  {
   "cell_type": "code",
   "execution_count": 53,
   "id": "1734aef5",
   "metadata": {},
   "outputs": [
    {
     "data": {
      "text/plain": [
       "['one', 'two', 'three']"
      ]
     },
     "execution_count": 53,
     "metadata": {},
     "output_type": "execute_result"
    }
   ],
   "source": [
    "m_l[0:3]"
   ]
  },
  {
   "cell_type": "code",
   "execution_count": 54,
   "id": "3567fdcd",
   "metadata": {},
   "outputs": [
    {
     "data": {
      "text/plain": [
       "['three', 'four', 'five']"
      ]
     },
     "execution_count": 54,
     "metadata": {},
     "output_type": "execute_result"
    }
   ],
   "source": [
    "m_l[2:5]"
   ]
  },
  {
   "cell_type": "code",
   "execution_count": 55,
   "id": "2b948a10",
   "metadata": {},
   "outputs": [
    {
     "data": {
      "text/plain": [
       "['one', 'two']"
      ]
     },
     "execution_count": 55,
     "metadata": {},
     "output_type": "execute_result"
    }
   ],
   "source": [
    "m_l[:2]  # return 1st 2 items"
   ]
  },
  {
   "cell_type": "code",
   "execution_count": 56,
   "id": "9f25ced6",
   "metadata": {},
   "outputs": [
    {
     "data": {
      "text/plain": [
       "['six', 'seven', 'eight']"
      ]
     },
     "execution_count": 56,
     "metadata": {},
     "output_type": "execute_result"
    }
   ],
   "source": [
    "m_l[-3:]  # return last three items"
   ]
  },
  {
   "cell_type": "code",
   "execution_count": 57,
   "id": "30080e37",
   "metadata": {},
   "outputs": [
    {
     "data": {
      "text/plain": [
       "'eight'"
      ]
     },
     "execution_count": 57,
     "metadata": {},
     "output_type": "execute_result"
    }
   ],
   "source": [
    "m_l[-1] # return last of the items"
   ]
  },
  {
   "cell_type": "code",
   "execution_count": 58,
   "id": "16c3fd25",
   "metadata": {},
   "outputs": [
    {
     "data": {
      "text/plain": [
       "['one', 'two', 'three', 'four', 'five', 'six', 'seven', 'eight']"
      ]
     },
     "execution_count": 58,
     "metadata": {},
     "output_type": "execute_result"
    }
   ],
   "source": [
    "m_l[:]  # return whole items"
   ]
  },
  {
   "cell_type": "markdown",
   "id": "9f4662ca",
   "metadata": {},
   "source": [
    "Add, Remove & Change items"
   ]
  },
  {
   "cell_type": "code",
   "execution_count": 59,
   "id": "26cca580",
   "metadata": {},
   "outputs": [
    {
     "data": {
      "text/plain": [
       "['one', 'two', 'three', 'four', 'five', 'six', 'seven', 'eight']"
      ]
     },
     "execution_count": 59,
     "metadata": {},
     "output_type": "execute_result"
    }
   ],
   "source": [
    "m_l"
   ]
  },
  {
   "cell_type": "code",
   "execution_count": 60,
   "id": "d0b9150c",
   "metadata": {},
   "outputs": [
    {
     "data": {
      "text/plain": [
       "['one', 'two', 'three', 'four', 'five', 'six', 'seven', 'eight', 'nine']"
      ]
     },
     "execution_count": 60,
     "metadata": {},
     "output_type": "execute_result"
    }
   ],
   "source": [
    "m_l.append('nine')  # add an item to the end of the list\n",
    "m_l"
   ]
  },
  {
   "cell_type": "code",
   "execution_count": 61,
   "id": "59d44979",
   "metadata": {},
   "outputs": [
    {
     "data": {
      "text/plain": [
       "['one', 'two', 'three', 'four', 'five', 'six', 'seven', 'eight', 'nine', 'ten']"
      ]
     },
     "execution_count": 61,
     "metadata": {},
     "output_type": "execute_result"
    }
   ],
   "source": [
    "m_l.insert(9,'ten')  # add item at index location 9\n",
    "m_l"
   ]
  },
  {
   "cell_type": "code",
   "execution_count": 62,
   "id": "396386cb",
   "metadata": {},
   "outputs": [
    {
     "data": {
      "text/plain": [
       "['one',\n",
       " 'one',\n",
       " 'two',\n",
       " 'three',\n",
       " 'four',\n",
       " 'five',\n",
       " 'six',\n",
       " 'seven',\n",
       " 'eight',\n",
       " 'nine',\n",
       " 'ten']"
      ]
     },
     "execution_count": 62,
     "metadata": {},
     "output_type": "execute_result"
    }
   ],
   "source": [
    "m_l.insert(1,'one')  # insert item at index location 1\n",
    "m_l"
   ]
  },
  {
   "cell_type": "code",
   "execution_count": null,
   "id": "8a3a5956",
   "metadata": {},
   "outputs": [
    {
     "data": {
      "text/plain": [
       "['two', 'three', 'four', 'five', 'six', 'seven', 'eight', 'nine', 'ten']"
      ]
     },
     "execution_count": 64,
     "metadata": {},
     "output_type": "execute_result"
    }
   ],
   "source": [
    "m_l.remove('one')  # remove item 'one'\n",
    "m_l"
   ]
  },
  {
   "cell_type": "code",
   "execution_count": null,
   "id": "059a87c5",
   "metadata": {},
   "outputs": [
    {
     "data": {
      "text/plain": [
       "'ten'"
      ]
     },
     "execution_count": 65,
     "metadata": {},
     "output_type": "execute_result"
    }
   ],
   "source": [
    "m_l.pop()  # remove last item of the list"
   ]
  },
  {
   "cell_type": "code",
   "execution_count": null,
   "id": "76de0adc",
   "metadata": {},
   "outputs": [
    {
     "data": {
      "text/plain": [
       "'five'"
      ]
     },
     "execution_count": 69,
     "metadata": {},
     "output_type": "execute_result"
    }
   ],
   "source": [
    "m_l.pop(3)  # remove item at index location 3"
   ]
  },
  {
   "cell_type": "code",
   "execution_count": 71,
   "id": "29decaf9",
   "metadata": {},
   "outputs": [
    {
     "data": {
      "text/plain": [
       "['two', 'three', 'four', 'six', 'seven']"
      ]
     },
     "execution_count": 71,
     "metadata": {},
     "output_type": "execute_result"
    }
   ],
   "source": [
    "del m_l[5]\n",
    "m_l"
   ]
  },
  {
   "cell_type": "code",
   "execution_count": 72,
   "id": "33421123",
   "metadata": {},
   "outputs": [
    {
     "data": {
      "text/plain": [
       "['two', 'three', 'four', 'six', 'seven']"
      ]
     },
     "execution_count": 72,
     "metadata": {},
     "output_type": "execute_result"
    }
   ],
   "source": [
    "m_l"
   ]
  },
  {
   "cell_type": "code",
   "execution_count": null,
   "id": "b0587047",
   "metadata": {},
   "outputs": [
    {
     "data": {
      "text/plain": [
       "[2, 3, 4, 'six', 'seven']"
      ]
     },
     "execution_count": 73,
     "metadata": {},
     "output_type": "execute_result"
    }
   ],
   "source": [
    "m_l[0] = 2   # change value of the string\n",
    "m_l[1] = 3\n",
    "m_l[2] = 4\n",
    "\n",
    "m_l\n",
    "\n"
   ]
  },
  {
   "cell_type": "code",
   "execution_count": null,
   "id": "76025a9f",
   "metadata": {},
   "outputs": [
    {
     "data": {
      "text/plain": [
       "[]"
      ]
     },
     "execution_count": 75,
     "metadata": {},
     "output_type": "execute_result"
    }
   ],
   "source": [
    "m_l.clear()   # delete all items in the list\n",
    "\n",
    "m_l"
   ]
  },
  {
   "cell_type": "code",
   "execution_count": null,
   "id": "68369055",
   "metadata": {},
   "outputs": [
    {
     "ename": "NameError",
     "evalue": "name 'm_l' is not defined",
     "output_type": "error",
     "traceback": [
      "\u001b[31m---------------------------------------------------------------------------\u001b[39m",
      "\u001b[31mNameError\u001b[39m                                 Traceback (most recent call last)",
      "\u001b[36mCell\u001b[39m\u001b[36m \u001b[39m\u001b[32mIn[77]\u001b[39m\u001b[32m, line 1\u001b[39m\n\u001b[32m----> \u001b[39m\u001b[32m1\u001b[39m \u001b[38;5;28;01mdel\u001b[39;00m \u001b[43mm_l\u001b[49m\n\u001b[32m      2\u001b[39m m_l\n",
      "\u001b[31mNameError\u001b[39m: name 'm_l' is not defined"
     ]
    }
   ],
   "source": [
    "del m_l   # delete the whole list\n",
    "m_l"
   ]
  },
  {
   "cell_type": "markdown",
   "id": "dc3e6841",
   "metadata": {},
   "source": [
    "Copy List"
   ]
  },
  {
   "cell_type": "code",
   "execution_count": 79,
   "id": "ad809a38",
   "metadata": {},
   "outputs": [
    {
     "name": "stdout",
     "output_type": "stream",
     "text": [
      "['one', 'two', 'three', 'four', 'five', 'six', 'seven', 'eight', 'nine']\n"
     ]
    }
   ],
   "source": [
    "ml= ['one', 'two', 'three', 'four', 'five', 'six', 'seven', 'eight', 'nine' ]\n",
    "print(ml)"
   ]
  },
  {
   "cell_type": "code",
   "execution_count": null,
   "id": "e6c86016",
   "metadata": {},
   "outputs": [
    {
     "data": {
      "text/plain": [
       "['one', 'two', 'three', 'four', 'five', 'six', 'seven', 'eight', 'nine']"
      ]
     },
     "execution_count": 81,
     "metadata": {},
     "output_type": "execute_result"
    }
   ],
   "source": [
    "ml1=ml  # creat a new reference ml1\n",
    "ml1"
   ]
  },
  {
   "cell_type": "code",
   "execution_count": 82,
   "id": "4e797c2c",
   "metadata": {},
   "outputs": [
    {
     "data": {
      "text/plain": [
       "(2107231595392, 2107231595392)"
      ]
     },
     "execution_count": 82,
     "metadata": {},
     "output_type": "execute_result"
    }
   ],
   "source": [
    "id(ml1),id(ml)"
   ]
  },
  {
   "cell_type": "code",
   "execution_count": 91,
   "id": "f322232f",
   "metadata": {},
   "outputs": [
    {
     "data": {
      "text/plain": [
       "[1, 'two', 'three', 'four', 'five', 'six', 'seven', 'eight', 'nine']"
      ]
     },
     "execution_count": 91,
     "metadata": {},
     "output_type": "execute_result"
    }
   ],
   "source": [
    "ml2=ml.copy()  # creat a copy of the list\n",
    "ml2"
   ]
  },
  {
   "cell_type": "code",
   "execution_count": 92,
   "id": "5d6f5170",
   "metadata": {},
   "outputs": [
    {
     "data": {
      "text/plain": [
       "2107230244416"
      ]
     },
     "execution_count": 92,
     "metadata": {},
     "output_type": "execute_result"
    }
   ],
   "source": [
    "id(l2)"
   ]
  },
  {
   "cell_type": "code",
   "execution_count": 87,
   "id": "f0bf92c4",
   "metadata": {},
   "outputs": [
    {
     "data": {
      "text/plain": [
       "[1, 'two', 'three', 'four', 'five', 'six', 'seven', 'eight', 'nine']"
      ]
     },
     "execution_count": 87,
     "metadata": {},
     "output_type": "execute_result"
    }
   ],
   "source": [
    "ml[0]=1\n",
    "ml"
   ]
  },
  {
   "cell_type": "code",
   "execution_count": null,
   "id": "af72bbbc",
   "metadata": {},
   "outputs": [
    {
     "name": "stdout",
     "output_type": "stream",
     "text": [
      "[1, 'two', 'three', 'four', 'five', 'six', 'seven', 'eight', 'nine']\n",
      "[1, 'two', 'three', 'four', 'five', 'six', 'seven', 'eight', 'nine']\n"
     ]
    }
   ],
   "source": [
    "print(ml1)  \n",
    "print(ml2)"
   ]
  },
  {
   "cell_type": "markdown",
   "id": "9ddb92d2",
   "metadata": {},
   "source": [
    "Join List"
   ]
  },
  {
   "cell_type": "code",
   "execution_count": 94,
   "id": "a7fddeb3",
   "metadata": {},
   "outputs": [
    {
     "name": "stdout",
     "output_type": "stream",
     "text": [
      "['one', 'two', 'three', 'four']\n",
      "['five', 'six', 'seven', 'eight']\n"
     ]
    }
   ],
   "source": [
    "list1 = ['one', 'two', 'three', 'four'] \n",
    "list2 = ['five', 'six', 'seven', 'eight'] \n",
    "\n",
    "print(list1)\n",
    "print(list2)"
   ]
  },
  {
   "cell_type": "code",
   "execution_count": 96,
   "id": "4550224f",
   "metadata": {},
   "outputs": [
    {
     "data": {
      "text/plain": [
       "['one', 'two', 'three', 'four', 'five', 'six', 'seven', 'eight']"
      ]
     },
     "execution_count": 96,
     "metadata": {},
     "output_type": "execute_result"
    }
   ],
   "source": [
    "list3= list1 + list2\n",
    "list3"
   ]
  },
  {
   "cell_type": "code",
   "execution_count": null,
   "id": "8913017d",
   "metadata": {},
   "outputs": [
    {
     "data": {
      "text/plain": [
       "['one',\n",
       " 'two',\n",
       " 'three',\n",
       " 'four',\n",
       " 'five',\n",
       " 'six',\n",
       " 'seven',\n",
       " 'eight',\n",
       " 'five',\n",
       " 'six',\n",
       " 'seven',\n",
       " 'eight']"
      ]
     },
     "execution_count": 98,
     "metadata": {},
     "output_type": "execute_result"
    }
   ],
   "source": [
    "list1.extend(list2)  # append list2 with list 1\n",
    "list1"
   ]
  },
  {
   "cell_type": "markdown",
   "id": "97c9c9d3",
   "metadata": {},
   "source": [
    "List Membership"
   ]
  },
  {
   "cell_type": "code",
   "execution_count": 99,
   "id": "1c7e1fc1",
   "metadata": {},
   "outputs": [
    {
     "data": {
      "text/plain": [
       "['one',\n",
       " 'two',\n",
       " 'three',\n",
       " 'four',\n",
       " 'five',\n",
       " 'six',\n",
       " 'seven',\n",
       " 'eight',\n",
       " 'five',\n",
       " 'six',\n",
       " 'seven',\n",
       " 'eight']"
      ]
     },
     "execution_count": 99,
     "metadata": {},
     "output_type": "execute_result"
    }
   ],
   "source": [
    "list1"
   ]
  },
  {
   "cell_type": "code",
   "execution_count": null,
   "id": "bc375c18",
   "metadata": {},
   "outputs": [
    {
     "data": {
      "text/plain": [
       "True"
      ]
     },
     "execution_count": 100,
     "metadata": {},
     "output_type": "execute_result"
    }
   ],
   "source": [
    "'one' in list1  # check if one exist in the list"
   ]
  },
  {
   "cell_type": "code",
   "execution_count": 101,
   "id": "6c2a30af",
   "metadata": {},
   "outputs": [
    {
     "data": {
      "text/plain": [
       "False"
      ]
     },
     "execution_count": 101,
     "metadata": {},
     "output_type": "execute_result"
    }
   ],
   "source": [
    "'ten' in list1"
   ]
  },
  {
   "cell_type": "code",
   "execution_count": 102,
   "id": "144dd0ea",
   "metadata": {},
   "outputs": [
    {
     "name": "stdout",
     "output_type": "stream",
     "text": [
      "yes it is there\n"
     ]
    }
   ],
   "source": [
    "if 'three' in list1:\n",
    "    print('yes it is there')\n",
    "else:\n",
    "    print('no there is no three')"
   ]
  },
  {
   "cell_type": "markdown",
   "id": "caa41c95",
   "metadata": {},
   "source": [
    "Reverse and Short List"
   ]
  },
  {
   "cell_type": "code",
   "execution_count": 103,
   "id": "0d88542f",
   "metadata": {},
   "outputs": [
    {
     "data": {
      "text/plain": [
       "['one',\n",
       " 'two',\n",
       " 'three',\n",
       " 'four',\n",
       " 'five',\n",
       " 'six',\n",
       " 'seven',\n",
       " 'eight',\n",
       " 'five',\n",
       " 'six',\n",
       " 'seven',\n",
       " 'eight']"
      ]
     },
     "execution_count": 103,
     "metadata": {},
     "output_type": "execute_result"
    }
   ],
   "source": [
    "list1"
   ]
  },
  {
   "cell_type": "code",
   "execution_count": 105,
   "id": "95d8a1e3",
   "metadata": {},
   "outputs": [
    {
     "data": {
      "text/plain": [
       "['one',\n",
       " 'two',\n",
       " 'three',\n",
       " 'four',\n",
       " 'five',\n",
       " 'six',\n",
       " 'seven',\n",
       " 'eight',\n",
       " 'five',\n",
       " 'six',\n",
       " 'seven',\n",
       " 'eight']"
      ]
     },
     "execution_count": 105,
     "metadata": {},
     "output_type": "execute_result"
    }
   ],
   "source": [
    "list1.reverse()\n",
    "list1"
   ]
  },
  {
   "cell_type": "code",
   "execution_count": null,
   "id": "a58344dc",
   "metadata": {},
   "outputs": [
    {
     "data": {
      "text/plain": [
       "['one',\n",
       " 'two',\n",
       " 'three',\n",
       " 'four',\n",
       " 'five',\n",
       " 'six',\n",
       " 'seven',\n",
       " 'eight',\n",
       " 'five',\n",
       " 'six',\n",
       " 'seven',\n",
       " 'eight']"
      ]
     },
     "execution_count": 107,
     "metadata": {},
     "output_type": "execute_result"
    }
   ],
   "source": [
    "list1 = list1[::-1]  # reverse the list\n",
    "list1"
   ]
  },
  {
   "cell_type": "code",
   "execution_count": 108,
   "id": "fd132b17",
   "metadata": {},
   "outputs": [
    {
     "data": {
      "text/plain": [
       "['five', 'six', 'seven', 'eight']"
      ]
     },
     "execution_count": 108,
     "metadata": {},
     "output_type": "execute_result"
    }
   ],
   "source": [
    "list2"
   ]
  },
  {
   "cell_type": "code",
   "execution_count": 110,
   "id": "2e7d0c77",
   "metadata": {},
   "outputs": [
    {
     "data": {
      "text/plain": [
       "[5, 6, 7, 8]"
      ]
     },
     "execution_count": 110,
     "metadata": {},
     "output_type": "execute_result"
    }
   ],
   "source": [
    "list2[0]=5\n",
    "list2[1]=6\n",
    "list2[2]=7\n",
    "list2[3]=8\n",
    "\n",
    "list2"
   ]
  },
  {
   "cell_type": "code",
   "execution_count": 112,
   "id": "53a8d304",
   "metadata": {},
   "outputs": [
    {
     "data": {
      "text/plain": [
       "[5, 6, 7, 8]"
      ]
     },
     "execution_count": 112,
     "metadata": {},
     "output_type": "execute_result"
    }
   ],
   "source": [
    "list2.sort()\n",
    "list2"
   ]
  },
  {
   "cell_type": "code",
   "execution_count": null,
   "id": "7ad37eff",
   "metadata": {},
   "outputs": [
    {
     "data": {
      "text/plain": [
       "[1, 2, 3, 4, 5, 6, 7, 8, 9]"
      ]
     },
     "execution_count": 117,
     "metadata": {},
     "output_type": "execute_result"
    }
   ],
   "source": [
    "list5= [1,2,5,7,8,3,9,6,4]  # sort list in ascending list\n",
    "list5.sort()\n",
    "list5"
   ]
  },
  {
   "cell_type": "code",
   "execution_count": 119,
   "id": "3ea2d3a8",
   "metadata": {},
   "outputs": [
    {
     "data": {
      "text/plain": [
       "[99, 88, 34, 12, 9, 5, 2]"
      ]
     },
     "execution_count": 119,
     "metadata": {},
     "output_type": "execute_result"
    }
   ],
   "source": [
    "# how to print in descending order\n",
    "\n",
    "list6=[9,5,2,99,12,88,34]\n",
    "list6.sort(reverse=True)\n",
    "list6\n",
    "\n"
   ]
  },
  {
   "cell_type": "code",
   "execution_count": null,
   "id": "0a8655cf",
   "metadata": {},
   "outputs": [
    {
     "data": {
      "text/plain": [
       "[11, 21, 33, 65, 88, 98]"
      ]
     },
     "execution_count": 120,
     "metadata": {},
     "output_type": "execute_result"
    }
   ],
   "source": [
    "list7=[88,65,33,21,11,98]\n",
    "sorted(list7)  # return new sorted list and does not change orginal"
   ]
  },
  {
   "cell_type": "code",
   "execution_count": 121,
   "id": "2e46a28b",
   "metadata": {},
   "outputs": [
    {
     "data": {
      "text/plain": [
       "[88, 65, 33, 21, 11, 98]"
      ]
     },
     "execution_count": 121,
     "metadata": {},
     "output_type": "execute_result"
    }
   ],
   "source": [
    "list7"
   ]
  },
  {
   "cell_type": "markdown",
   "id": "5bb6b2cf",
   "metadata": {},
   "source": [
    "Loop through a list"
   ]
  },
  {
   "cell_type": "code",
   "execution_count": 122,
   "id": "a3155163",
   "metadata": {},
   "outputs": [
    {
     "data": {
      "text/plain": [
       "['one',\n",
       " 'two',\n",
       " 'three',\n",
       " 'four',\n",
       " 'five',\n",
       " 'six',\n",
       " 'seven',\n",
       " 'eight',\n",
       " 'five',\n",
       " 'six',\n",
       " 'seven',\n",
       " 'eight']"
      ]
     },
     "execution_count": 122,
     "metadata": {},
     "output_type": "execute_result"
    }
   ],
   "source": [
    "list1"
   ]
  },
  {
   "cell_type": "code",
   "execution_count": 123,
   "id": "c45fcc7f",
   "metadata": {},
   "outputs": [
    {
     "name": "stdout",
     "output_type": "stream",
     "text": [
      "one\n",
      "two\n",
      "three\n",
      "four\n",
      "five\n",
      "six\n",
      "seven\n",
      "eight\n",
      "five\n",
      "six\n",
      "seven\n",
      "eight\n"
     ]
    }
   ],
   "source": [
    "for i in list1:\n",
    "    print(i)"
   ]
  },
  {
   "cell_type": "code",
   "execution_count": 125,
   "id": "81bac3a4",
   "metadata": {},
   "outputs": [
    {
     "name": "stdout",
     "output_type": "stream",
     "text": [
      "(0, 'one')\n",
      "(1, 'two')\n",
      "(2, 'three')\n",
      "(3, 'four')\n",
      "(4, 'five')\n",
      "(5, 'six')\n",
      "(6, 'seven')\n",
      "(7, 'eight')\n",
      "(8, 'five')\n",
      "(9, 'six')\n",
      "(10, 'seven')\n",
      "(11, 'eight')\n"
     ]
    }
   ],
   "source": [
    "for i in enumerate(list1):\n",
    "    print(i)"
   ]
  },
  {
   "cell_type": "markdown",
   "id": "68aa9413",
   "metadata": {},
   "source": [
    "Count"
   ]
  },
  {
   "cell_type": "code",
   "execution_count": 126,
   "id": "6958a684",
   "metadata": {},
   "outputs": [
    {
     "data": {
      "text/plain": [
       "[5, 6, 7, 8]"
      ]
     },
     "execution_count": 126,
     "metadata": {},
     "output_type": "execute_result"
    }
   ],
   "source": [
    "list2"
   ]
  },
  {
   "cell_type": "code",
   "execution_count": 127,
   "id": "105753d0",
   "metadata": {},
   "outputs": [
    {
     "data": {
      "text/plain": [
       "1"
      ]
     },
     "execution_count": 127,
     "metadata": {},
     "output_type": "execute_result"
    }
   ],
   "source": [
    "list2.count(5)"
   ]
  },
  {
   "cell_type": "markdown",
   "id": "d7279a53",
   "metadata": {},
   "source": [
    "All / Any\n",
    "\n",
    "\n",
    "The all() method returns:\n",
    "\n",
    "* True - if all elements in a list are true.\n",
    "* False - if any element in a list is false.\n",
    "\n",
    "The any() function returns True if any elements in the  list is True. if not, any() returns False."
   ]
  },
  {
   "cell_type": "code",
   "execution_count": 129,
   "id": "fde15214",
   "metadata": {},
   "outputs": [
    {
     "data": {
      "text/plain": [
       "[1, 2, 3, 4, 0]"
      ]
     },
     "execution_count": 129,
     "metadata": {},
     "output_type": "execute_result"
    }
   ],
   "source": [
    "L1=[1,2,3,4,0]\n",
    "L1"
   ]
  },
  {
   "cell_type": "code",
   "execution_count": null,
   "id": "3b958647",
   "metadata": {},
   "outputs": [
    {
     "data": {
      "text/plain": [
       "False"
      ]
     },
     "execution_count": 130,
     "metadata": {},
     "output_type": "execute_result"
    }
   ],
   "source": [
    "all(L1) # will return False as one value is false (value 0)"
   ]
  },
  {
   "cell_type": "code",
   "execution_count": null,
   "id": "1fae4ba4",
   "metadata": {},
   "outputs": [
    {
     "data": {
      "text/plain": [
       "True"
      ]
     },
     "execution_count": 131,
     "metadata": {},
     "output_type": "execute_result"
    }
   ],
   "source": [
    "any(L1)  # will return True as we have items in the  list with True value"
   ]
  },
  {
   "cell_type": "code",
   "execution_count": 133,
   "id": "08be13fd",
   "metadata": {},
   "outputs": [
    {
     "data": {
      "text/plain": [
       "[1, 2, 3, 4, True, False]"
      ]
     },
     "execution_count": 133,
     "metadata": {},
     "output_type": "execute_result"
    }
   ],
   "source": [
    "L2=[1,2,3,4,True,False]\n",
    "L2"
   ]
  },
  {
   "cell_type": "code",
   "execution_count": null,
   "id": "94e962e4",
   "metadata": {},
   "outputs": [
    {
     "data": {
      "text/plain": [
       "False"
      ]
     },
     "execution_count": 134,
     "metadata": {},
     "output_type": "execute_result"
    }
   ],
   "source": [
    "all(L2)  # return false as one value is false"
   ]
  },
  {
   "cell_type": "code",
   "execution_count": null,
   "id": "5439c677",
   "metadata": {},
   "outputs": [
    {
     "data": {
      "text/plain": [
       "True"
      ]
     },
     "execution_count": 135,
     "metadata": {},
     "output_type": "execute_result"
    }
   ],
   "source": [
    "any(L2)  # will return true as we have in the list True value"
   ]
  },
  {
   "cell_type": "code",
   "execution_count": null,
   "id": "f210da17",
   "metadata": {},
   "outputs": [
    {
     "data": {
      "text/plain": [
       "[1, 2, True]"
      ]
     },
     "execution_count": 136,
     "metadata": {},
     "output_type": "execute_result"
    }
   ],
   "source": [
    "L3=[1,2,True]\n",
    "L3"
   ]
  },
  {
   "cell_type": "code",
   "execution_count": 138,
   "id": "1c9efccb",
   "metadata": {},
   "outputs": [
    {
     "data": {
      "text/plain": [
       "True"
      ]
     },
     "execution_count": 138,
     "metadata": {},
     "output_type": "execute_result"
    }
   ],
   "source": [
    "all(L3)  # will return True as all items in the list are True"
   ]
  },
  {
   "cell_type": "markdown",
   "id": "515b4ebc",
   "metadata": {},
   "source": [
    "# TUPLES\n",
    "\n",
    "1. Tuple is similar to list except that the objects in tuple are immutable which means we cannot change the elements of a tuple once assigned.\n",
    "\n",
    "2. when we do not want to change the data over time, tuple is a preferd data type.\n",
    "\n",
    "3. itearting over the elements of a tuple is faster complared to iterating over alist."
   ]
  },
  {
   "cell_type": "markdown",
   "id": "fb478a28",
   "metadata": {},
   "source": [
    "Tuple Creation"
   ]
  },
  {
   "cell_type": "code",
   "execution_count": null,
   "id": "3c9072e0",
   "metadata": {},
   "outputs": [],
   "source": [
    "tup1 = ()  # Empty tuple"
   ]
  },
  {
   "cell_type": "code",
   "execution_count": 3,
   "id": "7d576d57",
   "metadata": {},
   "outputs": [
    {
     "data": {
      "text/plain": [
       "tuple"
      ]
     },
     "execution_count": 3,
     "metadata": {},
     "output_type": "execute_result"
    }
   ],
   "source": [
    "type(tup1)"
   ]
  },
  {
   "cell_type": "code",
   "execution_count": 4,
   "id": "06f16f54",
   "metadata": {},
   "outputs": [
    {
     "data": {
      "text/plain": [
       "0"
      ]
     },
     "execution_count": 4,
     "metadata": {},
     "output_type": "execute_result"
    }
   ],
   "source": [
    "len(tup1)"
   ]
  },
  {
   "cell_type": "code",
   "execution_count": null,
   "id": "c9370d3d",
   "metadata": {},
   "outputs": [
    {
     "data": {
      "text/plain": [
       "(10, 30, 60)"
      ]
     },
     "execution_count": 6,
     "metadata": {},
     "output_type": "execute_result"
    }
   ],
   "source": [
    "tup2 = (10,30,60)  # tuple of integer numbers\n",
    "tup2"
   ]
  },
  {
   "cell_type": "code",
   "execution_count": null,
   "id": "7c200130",
   "metadata": {},
   "outputs": [
    {
     "data": {
      "text/plain": [
       "(10.5, 2.5, 3.5)"
      ]
     },
     "execution_count": 7,
     "metadata": {},
     "output_type": "execute_result"
    }
   ],
   "source": [
    "tup3 = (10.5,2.5,3.5)  # tuple of folat numbers\n",
    "tup3"
   ]
  },
  {
   "cell_type": "code",
   "execution_count": null,
   "id": "d9ea610c",
   "metadata": {},
   "outputs": [
    {
     "data": {
      "text/plain": [
       "('one', 'two', 'three')"
      ]
     },
     "execution_count": 8,
     "metadata": {},
     "output_type": "execute_result"
    }
   ],
   "source": [
    "tup4 = ('one','two','three')  # tuple of string\n",
    "tup4"
   ]
  },
  {
   "cell_type": "code",
   "execution_count": 9,
   "id": "9367008b",
   "metadata": {},
   "outputs": [
    {
     "data": {
      "text/plain": [
       "('som', 25, (50, 100), (80, 70))"
      ]
     },
     "execution_count": 9,
     "metadata": {},
     "output_type": "execute_result"
    }
   ],
   "source": [
    "tup5 = ('som',25,(50,100),(80,70))  # nested tuple\n",
    "tup5"
   ]
  },
  {
   "cell_type": "code",
   "execution_count": 10,
   "id": "8208f33e",
   "metadata": {},
   "outputs": [
    {
     "data": {
      "text/plain": [
       "('som', 1.2, 100)"
      ]
     },
     "execution_count": 10,
     "metadata": {},
     "output_type": "execute_result"
    }
   ],
   "source": [
    "tup6 = ('som',1.2,100)  # tuple of mixed data types\n",
    "tup6"
   ]
  },
  {
   "cell_type": "code",
   "execution_count": null,
   "id": "a6f31f99",
   "metadata": {},
   "outputs": [
    {
     "data": {
      "text/plain": [
       "3"
      ]
     },
     "execution_count": 11,
     "metadata": {},
     "output_type": "execute_result"
    }
   ],
   "source": [
    "len(tup6)   # len of tuple"
   ]
  },
  {
   "cell_type": "markdown",
   "id": "a041ef31",
   "metadata": {},
   "source": [
    "Tuple Indexing"
   ]
  },
  {
   "cell_type": "code",
   "execution_count": 12,
   "id": "53080973",
   "metadata": {},
   "outputs": [
    {
     "data": {
      "text/plain": [
       "(10, 30, 60)"
      ]
     },
     "execution_count": 12,
     "metadata": {},
     "output_type": "execute_result"
    }
   ],
   "source": [
    "tup2"
   ]
  },
  {
   "cell_type": "code",
   "execution_count": null,
   "id": "4a4e9790",
   "metadata": {},
   "outputs": [
    {
     "data": {
      "text/plain": [
       "60"
      ]
     },
     "execution_count": 13,
     "metadata": {},
     "output_type": "execute_result"
    }
   ],
   "source": [
    "tup2[2] # retrive 3rd element of the tuple"
   ]
  },
  {
   "cell_type": "code",
   "execution_count": 14,
   "id": "92851d2e",
   "metadata": {},
   "outputs": [
    {
     "data": {
      "text/plain": [
       "('one', 'two', 'three')"
      ]
     },
     "execution_count": 14,
     "metadata": {},
     "output_type": "execute_result"
    }
   ],
   "source": [
    "tup4"
   ]
  },
  {
   "cell_type": "code",
   "execution_count": null,
   "id": "7e20e30c",
   "metadata": {},
   "outputs": [
    {
     "data": {
      "text/plain": [
       "'o'"
      ]
     },
     "execution_count": 15,
     "metadata": {},
     "output_type": "execute_result"
    }
   ],
   "source": [
    "tup4[0][0]  # nested indexing - access the frst character of the first tuple elements"
   ]
  },
  {
   "cell_type": "code",
   "execution_count": 16,
   "id": "1547c25d",
   "metadata": {},
   "outputs": [
    {
     "data": {
      "text/plain": [
       "'three'"
      ]
     },
     "execution_count": 16,
     "metadata": {},
     "output_type": "execute_result"
    }
   ],
   "source": [
    "tup4[-1]"
   ]
  },
  {
   "cell_type": "code",
   "execution_count": 18,
   "id": "c7753c9f",
   "metadata": {},
   "outputs": [
    {
     "ename": "TypeError",
     "evalue": "tuple indices must be integers or slices, not tuple",
     "output_type": "error",
     "traceback": [
      "\u001b[31m---------------------------------------------------------------------------\u001b[39m",
      "\u001b[31mTypeError\u001b[39m                                 Traceback (most recent call last)",
      "\u001b[36mCell\u001b[39m\u001b[36m \u001b[39m\u001b[32mIn[18]\u001b[39m\u001b[32m, line 1\u001b[39m\n\u001b[32m----> \u001b[39m\u001b[32m1\u001b[39m \u001b[43mtup5\u001b[49m\u001b[43m[\u001b[49m\u001b[32;43m1\u001b[39;49m\u001b[43m,\u001b[49m\u001b[32;43m2\u001b[39;49m\u001b[43m]\u001b[49m\n",
      "\u001b[31mTypeError\u001b[39m: tuple indices must be integers or slices, not tuple"
     ]
    }
   ],
   "source": [
    "tup5[1,2]"
   ]
  },
  {
   "cell_type": "code",
   "execution_count": 19,
   "id": "67454b7f",
   "metadata": {},
   "outputs": [
    {
     "data": {
      "text/plain": [
       "(80, 70)"
      ]
     },
     "execution_count": 19,
     "metadata": {},
     "output_type": "execute_result"
    }
   ],
   "source": [
    "tup5[-1]"
   ]
  },
  {
   "cell_type": "markdown",
   "id": "fa6bd48c",
   "metadata": {},
   "source": [
    "Tuple Slicing"
   ]
  },
  {
   "cell_type": "code",
   "execution_count": 21,
   "id": "7c2e18a3",
   "metadata": {},
   "outputs": [
    {
     "data": {
      "text/plain": [
       "('one', 'two', 'three', 'four', 'five', 'six', 'seven', 'eight')"
      ]
     },
     "execution_count": 21,
     "metadata": {},
     "output_type": "execute_result"
    }
   ],
   "source": [
    "m_t = ('one' , 'two' , 'three' , 'four' , 'five' , 'six' , 'seven' , 'eight')\n",
    "m_t"
   ]
  },
  {
   "cell_type": "code",
   "execution_count": 24,
   "id": "32e05d41",
   "metadata": {},
   "outputs": [
    {
     "data": {
      "text/plain": [
       "('one', 'two', 'three', 'four', 'five')"
      ]
     },
     "execution_count": 24,
     "metadata": {},
     "output_type": "execute_result"
    }
   ],
   "source": [
    "m_t [0:5]"
   ]
  },
  {
   "cell_type": "code",
   "execution_count": 25,
   "id": "f95c2b79",
   "metadata": {},
   "outputs": [
    {
     "data": {
      "text/plain": [
       "('three', 'four', 'five')"
      ]
     },
     "execution_count": 25,
     "metadata": {},
     "output_type": "execute_result"
    }
   ],
   "source": [
    "m_t[2:5]"
   ]
  },
  {
   "cell_type": "code",
   "execution_count": 26,
   "id": "dedafcad",
   "metadata": {},
   "outputs": [
    {
     "data": {
      "text/plain": [
       "('one', 'two', 'three')"
      ]
     },
     "execution_count": 26,
     "metadata": {},
     "output_type": "execute_result"
    }
   ],
   "source": [
    "m_t[:3]"
   ]
  },
  {
   "cell_type": "code",
   "execution_count": 27,
   "id": "1a81a858",
   "metadata": {},
   "outputs": [
    {
     "data": {
      "text/plain": [
       "('six', 'seven', 'eight')"
      ]
     },
     "execution_count": 27,
     "metadata": {},
     "output_type": "execute_result"
    }
   ],
   "source": [
    "m_t[-3:]"
   ]
  },
  {
   "cell_type": "code",
   "execution_count": 28,
   "id": "781eddf0",
   "metadata": {},
   "outputs": [
    {
     "data": {
      "text/plain": [
       "'eight'"
      ]
     },
     "execution_count": 28,
     "metadata": {},
     "output_type": "execute_result"
    }
   ],
   "source": [
    "m_t[-1]"
   ]
  },
  {
   "cell_type": "code",
   "execution_count": null,
   "id": "ea4ad19d",
   "metadata": {},
   "outputs": [
    {
     "data": {
      "text/plain": [
       "('eight', 'seven', 'six', 'five', 'four', 'three', 'two', 'one')"
      ]
     },
     "execution_count": 29,
     "metadata": {},
     "output_type": "execute_result"
    }
   ],
   "source": [
    "m_t[::-1]  # it print reverse of the tuple"
   ]
  },
  {
   "cell_type": "markdown",
   "id": "07f31a8c",
   "metadata": {},
   "source": [
    "Remove and change items"
   ]
  },
  {
   "cell_type": "code",
   "execution_count": 30,
   "id": "eaf26ca8",
   "metadata": {},
   "outputs": [
    {
     "data": {
      "text/plain": [
       "('one', 'two', 'three', 'four', 'five', 'six', 'seven', 'eight')"
      ]
     },
     "execution_count": 30,
     "metadata": {},
     "output_type": "execute_result"
    }
   ],
   "source": [
    "m_t"
   ]
  },
  {
   "cell_type": "code",
   "execution_count": 31,
   "id": "c6d7e76f",
   "metadata": {},
   "outputs": [
    {
     "ename": "TypeError",
     "evalue": "'tuple' object doesn't support item deletion",
     "output_type": "error",
     "traceback": [
      "\u001b[31m---------------------------------------------------------------------------\u001b[39m",
      "\u001b[31mTypeError\u001b[39m                                 Traceback (most recent call last)",
      "\u001b[36mCell\u001b[39m\u001b[36m \u001b[39m\u001b[32mIn[31]\u001b[39m\u001b[32m, line 1\u001b[39m\n\u001b[32m----> \u001b[39m\u001b[32m1\u001b[39m \u001b[38;5;28;01mdel\u001b[39;00m \u001b[43mm_t\u001b[49m\u001b[43m[\u001b[49m\u001b[32;43m0\u001b[39;49m\u001b[43m]\u001b[49m  \u001b[38;5;66;03m# Tuples are mutuble which means we can't delete tuple intems\u001b[39;00m\n",
      "\u001b[31mTypeError\u001b[39m: 'tuple' object doesn't support item deletion"
     ]
    }
   ],
   "source": [
    "del m_t[0]  # Tuples are mutuble which means we can't delete tuple intems"
   ]
  },
  {
   "cell_type": "code",
   "execution_count": 32,
   "id": "aaf64a67",
   "metadata": {},
   "outputs": [
    {
     "ename": "TypeError",
     "evalue": "'tuple' object does not support item assignment",
     "output_type": "error",
     "traceback": [
      "\u001b[31m---------------------------------------------------------------------------\u001b[39m",
      "\u001b[31mTypeError\u001b[39m                                 Traceback (most recent call last)",
      "\u001b[36mCell\u001b[39m\u001b[36m \u001b[39m\u001b[32mIn[32]\u001b[39m\u001b[32m, line 1\u001b[39m\n\u001b[32m----> \u001b[39m\u001b[32m1\u001b[39m \u001b[43mm_t\u001b[49m\u001b[43m[\u001b[49m\u001b[32;43m0\u001b[39;49m\u001b[43m]\u001b[49m = \u001b[32m2\u001b[39m\n",
      "\u001b[31mTypeError\u001b[39m: 'tuple' object does not support item assignment"
     ]
    }
   ],
   "source": [
    "m_t[0] = 2"
   ]
  },
  {
   "cell_type": "code",
   "execution_count": null,
   "id": "1c756ca8",
   "metadata": {},
   "outputs": [],
   "source": [
    "del m_t  # deleting entire tuple object is possible"
   ]
  },
  {
   "cell_type": "markdown",
   "id": "e178aece",
   "metadata": {},
   "source": [
    "Loop through a tuple"
   ]
  },
  {
   "cell_type": "code",
   "execution_count": 35,
   "id": "aa429ece",
   "metadata": {},
   "outputs": [
    {
     "data": {
      "text/plain": [
       "('one', 'two', 'three', 'four', 'five', 'six', 'seven', 'eight')"
      ]
     },
     "execution_count": 35,
     "metadata": {},
     "output_type": "execute_result"
    }
   ],
   "source": [
    "t= ('one', 'two', 'three', 'four', 'five', 'six', 'seven', 'eight')\n",
    "t"
   ]
  },
  {
   "cell_type": "code",
   "execution_count": 36,
   "id": "e0c724d6",
   "metadata": {},
   "outputs": [
    {
     "name": "stdout",
     "output_type": "stream",
     "text": [
      "one\n",
      "two\n",
      "three\n",
      "four\n",
      "five\n",
      "six\n",
      "seven\n",
      "eight\n"
     ]
    }
   ],
   "source": [
    "for i in t:\n",
    "    print(i)"
   ]
  },
  {
   "cell_type": "code",
   "execution_count": 37,
   "id": "12fd687a",
   "metadata": {},
   "outputs": [
    {
     "name": "stdout",
     "output_type": "stream",
     "text": [
      "(0, 'one')\n",
      "(1, 'two')\n",
      "(2, 'three')\n",
      "(3, 'four')\n",
      "(4, 'five')\n",
      "(5, 'six')\n",
      "(6, 'seven')\n",
      "(7, 'eight')\n"
     ]
    }
   ],
   "source": [
    "for i in enumerate(t):\n",
    "    print(i)"
   ]
  },
  {
   "cell_type": "markdown",
   "id": "28a0d0a5",
   "metadata": {},
   "source": [
    "Count"
   ]
  },
  {
   "cell_type": "code",
   "execution_count": 38,
   "id": "8bff54c7",
   "metadata": {},
   "outputs": [
    {
     "data": {
      "text/plain": [
       "('one', 'two', 'three', 'four', 'one', 'one', 'two', 'three')"
      ]
     },
     "execution_count": 38,
     "metadata": {},
     "output_type": "execute_result"
    }
   ],
   "source": [
    "t1 =('one', 'two', 'three', 'four', 'one', 'one', 'two', 'three') \n",
    "t1 "
   ]
  },
  {
   "cell_type": "code",
   "execution_count": null,
   "id": "ae281725",
   "metadata": {},
   "outputs": [
    {
     "data": {
      "text/plain": [
       "3"
      ]
     },
     "execution_count": 39,
     "metadata": {},
     "output_type": "execute_result"
    }
   ],
   "source": [
    "t1.count('one')  # number of times item 'one' occured in the tuple"
   ]
  },
  {
   "cell_type": "code",
   "execution_count": 40,
   "id": "0b3b58e1",
   "metadata": {},
   "outputs": [
    {
     "data": {
      "text/plain": [
       "2"
      ]
     },
     "execution_count": 40,
     "metadata": {},
     "output_type": "execute_result"
    }
   ],
   "source": [
    "t1.count('two')"
   ]
  },
  {
   "cell_type": "markdown",
   "id": "dc2e7481",
   "metadata": {},
   "source": [
    "Tuple Membership"
   ]
  },
  {
   "cell_type": "code",
   "execution_count": 41,
   "id": "dc83cb91",
   "metadata": {},
   "outputs": [
    {
     "data": {
      "text/plain": [
       "('one', 'two', 'three', 'four', 'one', 'one', 'two', 'three')"
      ]
     },
     "execution_count": 41,
     "metadata": {},
     "output_type": "execute_result"
    }
   ],
   "source": [
    "t1"
   ]
  },
  {
   "cell_type": "code",
   "execution_count": null,
   "id": "a412a411",
   "metadata": {},
   "outputs": [
    {
     "data": {
      "text/plain": [
       "True"
      ]
     },
     "execution_count": 42,
     "metadata": {},
     "output_type": "execute_result"
    }
   ],
   "source": [
    "'one' in t1  # check if 'one' exist in the list"
   ]
  },
  {
   "cell_type": "code",
   "execution_count": null,
   "id": "660a7b7c",
   "metadata": {},
   "outputs": [
    {
     "data": {
      "text/plain": [
       "False"
      ]
     },
     "execution_count": 43,
     "metadata": {},
     "output_type": "execute_result"
    }
   ],
   "source": [
    "'ten' in t1  # check if 'ten' exist in the list"
   ]
  },
  {
   "cell_type": "code",
   "execution_count": 44,
   "id": "4e1bd521",
   "metadata": {},
   "outputs": [
    {
     "name": "stdout",
     "output_type": "stream",
     "text": [
      "yes it is in tuple\n"
     ]
    }
   ],
   "source": [
    "if 'three' in t1:\n",
    "    print('yes it is in tuple')\n",
    "else:print('not present')"
   ]
  },
  {
   "cell_type": "code",
   "execution_count": 45,
   "id": "c10beac6",
   "metadata": {},
   "outputs": [
    {
     "name": "stdout",
     "output_type": "stream",
     "text": [
      "not present\n"
     ]
    }
   ],
   "source": [
    "if 'ten' in t1:\n",
    "    print('yes it is in tuple')\n",
    "else:print('not present')"
   ]
  },
  {
   "cell_type": "markdown",
   "id": "417e367f",
   "metadata": {},
   "source": [
    "Index Position"
   ]
  },
  {
   "cell_type": "code",
   "execution_count": 50,
   "id": "b4568f7d",
   "metadata": {},
   "outputs": [
    {
     "data": {
      "text/plain": [
       "('one', 'two', 'three', 'four', 'five', 'six', 'seven', 'eight')"
      ]
     },
     "execution_count": 50,
     "metadata": {},
     "output_type": "execute_result"
    }
   ],
   "source": [
    "t5 =('one', 'two', 'three', 'four', 'five', 'six', 'seven', 'eight') \n",
    "t5"
   ]
  },
  {
   "cell_type": "code",
   "execution_count": 53,
   "id": "8089c3b6",
   "metadata": {},
   "outputs": [
    {
     "data": {
      "text/plain": [
       "0"
      ]
     },
     "execution_count": 53,
     "metadata": {},
     "output_type": "execute_result"
    }
   ],
   "source": [
    "t5.index('one')  # index of first element equal to 'one'"
   ]
  },
  {
   "cell_type": "code",
   "execution_count": 54,
   "id": "946cb34b",
   "metadata": {},
   "outputs": [
    {
     "data": {
      "text/plain": [
       "4"
      ]
     },
     "execution_count": 54,
     "metadata": {},
     "output_type": "execute_result"
    }
   ],
   "source": [
    "t5.index('five')"
   ]
  },
  {
   "cell_type": "markdown",
   "id": "69561606",
   "metadata": {},
   "source": [
    "Sorting"
   ]
  },
  {
   "cell_type": "code",
   "execution_count": 57,
   "id": "3d980bb4",
   "metadata": {},
   "outputs": [
    {
     "data": {
      "text/plain": [
       "(55, 67, 9915, 6, 90, 67)"
      ]
     },
     "execution_count": 57,
     "metadata": {},
     "output_type": "execute_result"
    }
   ],
   "source": [
    "t2 =(55,67,9915,6,90,67)\n",
    "t2"
   ]
  },
  {
   "cell_type": "code",
   "execution_count": 58,
   "id": "503e9267",
   "metadata": {},
   "outputs": [
    {
     "data": {
      "text/plain": [
       "[6, 55, 67, 67, 90, 9915]"
      ]
     },
     "execution_count": 58,
     "metadata": {},
     "output_type": "execute_result"
    }
   ],
   "source": [
    "sorted(t2)"
   ]
  },
  {
   "cell_type": "code",
   "execution_count": 59,
   "id": "5bab3742",
   "metadata": {},
   "outputs": [
    {
     "data": {
      "text/plain": [
       "[9915, 90, 67, 67, 55, 6]"
      ]
     },
     "execution_count": 59,
     "metadata": {},
     "output_type": "execute_result"
    }
   ],
   "source": [
    "sorted(t2,reverse=True)"
   ]
  },
  {
   "cell_type": "markdown",
   "id": "85936dab",
   "metadata": {},
   "source": [
    "# SET\n",
    "\n",
    "1. Unoredered & Unindexed collection of items.\n",
    "\n",
    "2. Set elements are unique. Duplicate elements are not allowed.\n",
    "\n",
    "3. Set elements are immuatable (can't be changed).\n",
    "\n",
    "4. Set itself is mutable. We can add or remove items from it."
   ]
  },
  {
   "cell_type": "markdown",
   "id": "f8e33643",
   "metadata": {},
   "source": [
    "Set Creation"
   ]
  },
  {
   "cell_type": "code",
   "execution_count": 60,
   "id": "6efb2cc7",
   "metadata": {},
   "outputs": [
    {
     "data": {
      "text/plain": [
       "{1, 2, 3, 4, 5}"
      ]
     },
     "execution_count": 60,
     "metadata": {},
     "output_type": "execute_result"
    }
   ],
   "source": [
    "s ={1,2,3,4,5}  # set of numbers\n",
    "s"
   ]
  },
  {
   "cell_type": "code",
   "execution_count": 61,
   "id": "c7af1afe",
   "metadata": {},
   "outputs": [
    {
     "data": {
      "text/plain": [
       "set"
      ]
     },
     "execution_count": 61,
     "metadata": {},
     "output_type": "execute_result"
    }
   ],
   "source": [
    "type(s)"
   ]
  },
  {
   "cell_type": "code",
   "execution_count": 62,
   "id": "9de32344",
   "metadata": {},
   "outputs": [
    {
     "data": {
      "text/plain": [
       "5"
      ]
     },
     "execution_count": 62,
     "metadata": {},
     "output_type": "execute_result"
    }
   ],
   "source": [
    "len(s)"
   ]
  },
  {
   "cell_type": "code",
   "execution_count": 66,
   "id": "38943669",
   "metadata": {},
   "outputs": [
    {
     "data": {
      "text/plain": [
       "{1, 2, 3, 4, 5, 6, 7}"
      ]
     },
     "execution_count": 66,
     "metadata": {},
     "output_type": "execute_result"
    }
   ],
   "source": [
    "s1 = {1,1,2,1,3,4,2,7,6,4,5} # duplicate not allowed also is print in ascending order\n",
    "s1"
   ]
  },
  {
   "cell_type": "code",
   "execution_count": null,
   "id": "97338297",
   "metadata": {},
   "outputs": [
    {
     "data": {
      "text/plain": [
       "{1.2, 2.5, 3.5, 4.6}"
      ]
     },
     "execution_count": 68,
     "metadata": {},
     "output_type": "execute_result"
    }
   ],
   "source": [
    "s1={1.2,2.5,4.6,3.5}  # set of float numbers\n",
    "s1"
   ]
  },
  {
   "cell_type": "code",
   "execution_count": 70,
   "id": "ca1ebd38",
   "metadata": {},
   "outputs": [
    {
     "data": {
      "text/plain": [
       "{'name 2', 'name1', 'name3', 'som'}"
      ]
     },
     "execution_count": 70,
     "metadata": {},
     "output_type": "execute_result"
    }
   ],
   "source": [
    "s3={'som', 'name1','name 2','name3'}\n",
    "s3"
   ]
  },
  {
   "cell_type": "code",
   "execution_count": null,
   "id": "18e0a1da",
   "metadata": {},
   "outputs": [
    {
     "ename": "TypeError",
     "evalue": "unhashable type: 'set'",
     "output_type": "error",
     "traceback": [
      "\u001b[31m---------------------------------------------------------------------------\u001b[39m",
      "\u001b[31mTypeError\u001b[39m                                 Traceback (most recent call last)",
      "\u001b[36mCell\u001b[39m\u001b[36m \u001b[39m\u001b[32mIn[71]\u001b[39m\u001b[32m, line 1\u001b[39m\n\u001b[32m----> \u001b[39m\u001b[32m1\u001b[39m s4={\u001b[33m'\u001b[39m\u001b[33msom\u001b[39m\u001b[33m'\u001b[39m,{\u001b[33m'\u001b[39m\u001b[33mname1\u001b[39m\u001b[33m'\u001b[39m}}\n",
      "\u001b[31mTypeError\u001b[39m: unhashable type: 'set'"
     ]
    }
   ],
   "source": [
    "s4={'som',{'name1'}}  # nested set not allowed"
   ]
  },
  {
   "cell_type": "code",
   "execution_count": 74,
   "id": "9ec123a3",
   "metadata": {},
   "outputs": [
    {
     "data": {
      "text/plain": [
       "{10, 20, 'som.(10,20,30)'}"
      ]
     },
     "execution_count": 74,
     "metadata": {},
     "output_type": "execute_result"
    }
   ],
   "source": [
    "s5 ={10,20,'som.(10,20,30)'} # set of mixed numbers\n",
    "s5"
   ]
  },
  {
   "cell_type": "code",
   "execution_count": null,
   "id": "515a2332",
   "metadata": {},
   "outputs": [
    {
     "ename": "TypeError",
     "evalue": "unhashable type: 'list'",
     "output_type": "error",
     "traceback": [
      "\u001b[31m---------------------------------------------------------------------------\u001b[39m",
      "\u001b[31mTypeError\u001b[39m                                 Traceback (most recent call last)",
      "\u001b[36mCell\u001b[39m\u001b[36m \u001b[39m\u001b[32mIn[75]\u001b[39m\u001b[32m, line 1\u001b[39m\n\u001b[32m----> \u001b[39m\u001b[32m1\u001b[39m s6 = {\u001b[32m10\u001b[39m,\u001b[32m20\u001b[39m,\u001b[33m'\u001b[39m\u001b[33msom\u001b[39m\u001b[33m'\u001b[39m, [\u001b[32m11\u001b[39m,\u001b[32m22\u001b[39m,\u001b[32m33\u001b[39m,\u001b[32m40\u001b[39m]}\n",
      "\u001b[31mTypeError\u001b[39m: unhashable type: 'list'"
     ]
    }
   ],
   "source": [
    "s6 = {10,20,'som', [11,22,33,40]} # set not allowed muatabe items"
   ]
  },
  {
   "cell_type": "code",
   "execution_count": 78,
   "id": "13e447a6",
   "metadata": {},
   "outputs": [
    {
     "name": "stdout",
     "output_type": "stream",
     "text": [
      "<class 'set'>\n"
     ]
    }
   ],
   "source": [
    "s7=set()\n",
    "s7\n",
    "\n",
    "print(type (s7))"
   ]
  },
  {
   "cell_type": "code",
   "execution_count": null,
   "id": "ecda2df0",
   "metadata": {},
   "outputs": [
    {
     "data": {
      "text/plain": [
       "{1, 2, 3, 4, 5}"
      ]
     },
     "execution_count": 81,
     "metadata": {},
     "output_type": "execute_result"
    }
   ],
   "source": [
    "s"
   ]
  },
  {
   "cell_type": "code",
   "execution_count": 82,
   "id": "c0053389",
   "metadata": {},
   "outputs": [
    {
     "data": {
      "text/plain": [
       "{'four', 'one', 'three', 'two'}"
      ]
     },
     "execution_count": 82,
     "metadata": {},
     "output_type": "execute_result"
    }
   ],
   "source": [
    "s=set(('one','two','three','four'))\n",
    "s"
   ]
  },
  {
   "cell_type": "markdown",
   "id": "c2f15b4e",
   "metadata": {},
   "source": [
    "Loop through a Set"
   ]
  },
  {
   "cell_type": "code",
   "execution_count": 86,
   "id": "a78016eb",
   "metadata": {},
   "outputs": [
    {
     "name": "stdout",
     "output_type": "stream",
     "text": [
      "eight\n",
      "seven\n",
      "two\n",
      "five\n",
      "one\n",
      "six\n",
      "four\n",
      "three\n"
     ]
    }
   ],
   "source": [
    "myset = {'one', 'two', 'three', 'four', 'five', 'six', 'seven', 'eight'} \n",
    "\n",
    "for i in myset:\n",
    "    print(i)"
   ]
  },
  {
   "cell_type": "code",
   "execution_count": 87,
   "id": "b6a7abf7",
   "metadata": {},
   "outputs": [
    {
     "name": "stdout",
     "output_type": "stream",
     "text": [
      "(0, 'eight')\n",
      "(1, 'seven')\n",
      "(2, 'two')\n",
      "(3, 'five')\n",
      "(4, 'one')\n",
      "(5, 'six')\n",
      "(6, 'four')\n",
      "(7, 'three')\n"
     ]
    }
   ],
   "source": [
    "for i in enumerate(myset):\n",
    "    print(i)"
   ]
  },
  {
   "cell_type": "markdown",
   "id": "9e89f8e2",
   "metadata": {},
   "source": [
    "Set Membership"
   ]
  },
  {
   "cell_type": "code",
   "execution_count": 88,
   "id": "0989e242",
   "metadata": {},
   "outputs": [
    {
     "data": {
      "text/plain": [
       "{'eight', 'five', 'four', 'one', 'seven', 'six', 'three', 'two'}"
      ]
     },
     "execution_count": 88,
     "metadata": {},
     "output_type": "execute_result"
    }
   ],
   "source": [
    "myset"
   ]
  },
  {
   "cell_type": "code",
   "execution_count": 89,
   "id": "46fca27e",
   "metadata": {},
   "outputs": [
    {
     "data": {
      "text/plain": [
       "True"
      ]
     },
     "execution_count": 89,
     "metadata": {},
     "output_type": "execute_result"
    }
   ],
   "source": [
    "'five' in myset"
   ]
  },
  {
   "cell_type": "code",
   "execution_count": 90,
   "id": "07f4dc86",
   "metadata": {},
   "outputs": [
    {
     "data": {
      "text/plain": [
       "False"
      ]
     },
     "execution_count": 90,
     "metadata": {},
     "output_type": "execute_result"
    }
   ],
   "source": [
    "'ten' in myset"
   ]
  },
  {
   "cell_type": "code",
   "execution_count": 91,
   "id": "1703505e",
   "metadata": {},
   "outputs": [
    {
     "name": "stdout",
     "output_type": "stream",
     "text": [
      "yesssss it is there\n"
     ]
    }
   ],
   "source": [
    "if 'one' in myset:\n",
    "    print('yesssss it is there')\n",
    "else:\n",
    "    print('nooooo not there')"
   ]
  },
  {
   "cell_type": "code",
   "execution_count": 92,
   "id": "e9dcedd9",
   "metadata": {},
   "outputs": [
    {
     "name": "stdout",
     "output_type": "stream",
     "text": [
      "nooooo please wear a chasma\n"
     ]
    }
   ],
   "source": [
    "if 'ten' in myset:print('yesssssss it is there')\n",
    "else:print('nooooo please wear a chasma')"
   ]
  },
  {
   "cell_type": "markdown",
   "id": "1d6f8252",
   "metadata": {},
   "source": [
    "Add & Remove items"
   ]
  },
  {
   "cell_type": "code",
   "execution_count": 93,
   "id": "579daf06",
   "metadata": {},
   "outputs": [
    {
     "data": {
      "text/plain": [
       "{'eight', 'five', 'four', 'one', 'seven', 'six', 'three', 'two'}"
      ]
     },
     "execution_count": 93,
     "metadata": {},
     "output_type": "execute_result"
    }
   ],
   "source": [
    "myset"
   ]
  },
  {
   "cell_type": "code",
   "execution_count": null,
   "id": "3f494fbd",
   "metadata": {},
   "outputs": [
    {
     "data": {
      "text/plain": [
       "{'NINE', 'eight', 'five', 'four', 'one', 'seven', 'six', 'three', 'two'}"
      ]
     },
     "execution_count": 95,
     "metadata": {},
     "output_type": "execute_result"
    }
   ],
   "source": [
    "myset.add('NINE') # add item to a set using add() method\n",
    "myset"
   ]
  },
  {
   "cell_type": "code",
   "execution_count": null,
   "id": "a88e6087",
   "metadata": {},
   "outputs": [
    {
     "data": {
      "text/plain": [
       "{'NINE',\n",
       " 'eight',\n",
       " 'eleven',\n",
       " 'five',\n",
       " 'four',\n",
       " 'one',\n",
       " 'seven',\n",
       " 'six',\n",
       " 'ten',\n",
       " 'three',\n",
       " 'tweleve',\n",
       " 'two'}"
      ]
     },
     "execution_count": 96,
     "metadata": {},
     "output_type": "execute_result"
    }
   ],
   "source": [
    "myset.update(['ten','eleven','tweleve'])  # add multiple items using update()\n",
    "myset"
   ]
  },
  {
   "cell_type": "code",
   "execution_count": 103,
   "id": "900638f1",
   "metadata": {},
   "outputs": [
    {
     "ename": "KeyError",
     "evalue": "'two'",
     "output_type": "error",
     "traceback": [
      "\u001b[31m---------------------------------------------------------------------------\u001b[39m",
      "\u001b[31mKeyError\u001b[39m                                  Traceback (most recent call last)",
      "\u001b[36mCell\u001b[39m\u001b[36m \u001b[39m\u001b[32mIn[103]\u001b[39m\u001b[32m, line 1\u001b[39m\n\u001b[32m----> \u001b[39m\u001b[32m1\u001b[39m \u001b[43mmyset\u001b[49m\u001b[43m.\u001b[49m\u001b[43mremove\u001b[49m\u001b[43m(\u001b[49m\u001b[33;43m'\u001b[39;49m\u001b[33;43mtwo\u001b[39;49m\u001b[33;43m'\u001b[39;49m\u001b[43m)\u001b[49m\n\u001b[32m      2\u001b[39m myset\n",
      "\u001b[31mKeyError\u001b[39m: 'two'"
     ]
    }
   ],
   "source": [
    "myset.remove('two')\n",
    "myset"
   ]
  },
  {
   "cell_type": "code",
   "execution_count": 104,
   "id": "79409f1e",
   "metadata": {},
   "outputs": [
    {
     "data": {
      "text/plain": [
       "{'eight',\n",
       " 'eleven',\n",
       " 'five',\n",
       " 'four',\n",
       " 'one',\n",
       " 'seven',\n",
       " 'six',\n",
       " 'ten',\n",
       " 'three',\n",
       " 'tweleve'}"
      ]
     },
     "execution_count": 104,
     "metadata": {},
     "output_type": "execute_result"
    }
   ],
   "source": [
    "myset"
   ]
  },
  {
   "cell_type": "code",
   "execution_count": 105,
   "id": "a6333ca0",
   "metadata": {},
   "outputs": [],
   "source": [
    "myset.discard('ten')"
   ]
  },
  {
   "cell_type": "code",
   "execution_count": 106,
   "id": "7a5b1fa3",
   "metadata": {},
   "outputs": [
    {
     "data": {
      "text/plain": [
       "{'eight', 'eleven', 'five', 'four', 'one', 'seven', 'six', 'three', 'tweleve'}"
      ]
     },
     "execution_count": 106,
     "metadata": {},
     "output_type": "execute_result"
    }
   ],
   "source": [
    "myset"
   ]
  },
  {
   "cell_type": "code",
   "execution_count": 108,
   "id": "2f8306e5",
   "metadata": {},
   "outputs": [
    {
     "data": {
      "text/plain": [
       "set()"
      ]
     },
     "execution_count": 108,
     "metadata": {},
     "output_type": "execute_result"
    }
   ],
   "source": [
    "myset.clear()\n",
    "myset"
   ]
  },
  {
   "cell_type": "code",
   "execution_count": 109,
   "id": "36c61e57",
   "metadata": {},
   "outputs": [],
   "source": [
    "del myset"
   ]
  },
  {
   "cell_type": "code",
   "execution_count": 110,
   "id": "facf7474",
   "metadata": {},
   "outputs": [
    {
     "ename": "NameError",
     "evalue": "name 'myset' is not defined",
     "output_type": "error",
     "traceback": [
      "\u001b[31m---------------------------------------------------------------------------\u001b[39m",
      "\u001b[31mNameError\u001b[39m                                 Traceback (most recent call last)",
      "\u001b[36mCell\u001b[39m\u001b[36m \u001b[39m\u001b[32mIn[110]\u001b[39m\u001b[32m, line 1\u001b[39m\n\u001b[32m----> \u001b[39m\u001b[32m1\u001b[39m \u001b[43mmyset\u001b[49m\n",
      "\u001b[31mNameError\u001b[39m: name 'myset' is not defined"
     ]
    }
   ],
   "source": [
    "myset"
   ]
  },
  {
   "cell_type": "markdown",
   "id": "a5e88073",
   "metadata": {},
   "source": [
    "Copy Set"
   ]
  },
  {
   "cell_type": "code",
   "execution_count": 111,
   "id": "224530e7",
   "metadata": {},
   "outputs": [
    {
     "data": {
      "text/plain": [
       "{'eight', 'five', 'four', 'one', 'seven', 'six', 'three', 'two'}"
      ]
     },
     "execution_count": 111,
     "metadata": {},
     "output_type": "execute_result"
    }
   ],
   "source": [
    "myset = {'one', 'two', 'three', 'four', 'five', 'six', 'seven', 'eight'} \n",
    "myset"
   ]
  },
  {
   "cell_type": "code",
   "execution_count": 113,
   "id": "fc69d0e0",
   "metadata": {},
   "outputs": [
    {
     "data": {
      "text/plain": [
       "{'eight', 'five', 'four', 'one', 'seven', 'six', 'three', 'two'}"
      ]
     },
     "execution_count": 113,
     "metadata": {},
     "output_type": "execute_result"
    }
   ],
   "source": [
    "myset1=myset\n",
    "myset1"
   ]
  },
  {
   "cell_type": "code",
   "execution_count": 114,
   "id": "91571ac7",
   "metadata": {},
   "outputs": [
    {
     "data": {
      "text/plain": [
       "(3040562037472, 3040562037472)"
      ]
     },
     "execution_count": 114,
     "metadata": {},
     "output_type": "execute_result"
    }
   ],
   "source": [
    "id(myset1), id(myset)"
   ]
  },
  {
   "cell_type": "markdown",
   "id": "0a337c54",
   "metadata": {},
   "source": [
    "if we add something in orginal set(myset) it impected in myset1"
   ]
  },
  {
   "cell_type": "markdown",
   "id": "a64ceb8d",
   "metadata": {},
   "source": [
    "Set Operation"
   ]
  },
  {
   "cell_type": "markdown",
   "id": "569f9944",
   "metadata": {},
   "source": [
    "union"
   ]
  },
  {
   "cell_type": "code",
   "execution_count": 115,
   "id": "4542557c",
   "metadata": {},
   "outputs": [],
   "source": [
    "A = {1,2,3,4,5} \n",
    "B = {4,5,6,7,8} \n",
    "C = {8,9,10} "
   ]
  },
  {
   "cell_type": "code",
   "execution_count": null,
   "id": "a4e84ee6",
   "metadata": {},
   "outputs": [
    {
     "data": {
      "text/plain": [
       "{1, 2, 3, 4, 5, 6, 7, 8}"
      ]
     },
     "execution_count": 117,
     "metadata": {},
     "output_type": "execute_result"
    }
   ],
   "source": [
    "A|B  # (|) this is called union symbol it union 2 set into 1"
   ]
  },
  {
   "cell_type": "code",
   "execution_count": 118,
   "id": "729036b0",
   "metadata": {},
   "outputs": [
    {
     "data": {
      "text/plain": [
       "{1, 2, 3, 4, 5, 6, 7, 8}"
      ]
     },
     "execution_count": 118,
     "metadata": {},
     "output_type": "execute_result"
    }
   ],
   "source": [
    "A.union(B)"
   ]
  },
  {
   "cell_type": "code",
   "execution_count": 119,
   "id": "1874707f",
   "metadata": {},
   "outputs": [
    {
     "data": {
      "text/plain": [
       "{1, 2, 3, 4, 5, 6, 7, 8, 9, 10}"
      ]
     },
     "execution_count": 119,
     "metadata": {},
     "output_type": "execute_result"
    }
   ],
   "source": [
    "A.union(B,C)"
   ]
  },
  {
   "cell_type": "code",
   "execution_count": 120,
   "id": "0b19cacc",
   "metadata": {},
   "outputs": [
    {
     "data": {
      "text/plain": [
       "{1, 2, 3, 4, 5, 6, 7, 8, 9, 10}"
      ]
     },
     "execution_count": 120,
     "metadata": {},
     "output_type": "execute_result"
    }
   ],
   "source": [
    "\"\"\" \n",
    "Updates the set calling the update() method with union of A , B & C. \n",
    "For below example Set A will be updated with union of A,B & C. \n",
    "\"\"\" \n",
    "A.update(B,C)\n",
    "A"
   ]
  },
  {
   "cell_type": "markdown",
   "id": "f29f47a8",
   "metadata": {},
   "source": [
    "intersection"
   ]
  },
  {
   "cell_type": "code",
   "execution_count": null,
   "id": "aea2013b",
   "metadata": {},
   "outputs": [],
   "source": [
    "A = {1,2,3,4,5} \n",
    "B = {4,5,6,7,8}\n"
   ]
  },
  {
   "cell_type": "code",
   "execution_count": 126,
   "id": "bc8b923b",
   "metadata": {},
   "outputs": [
    {
     "data": {
      "text/plain": [
       "{4, 5}"
      ]
     },
     "execution_count": 126,
     "metadata": {},
     "output_type": "execute_result"
    }
   ],
   "source": [
    "A & B  # intersection of A and B (it print common items in both sets)"
   ]
  },
  {
   "cell_type": "code",
   "execution_count": null,
   "id": "ad748ba1",
   "metadata": {},
   "outputs": [
    {
     "data": {
      "text/plain": [
       "{4, 5}"
      ]
     },
     "execution_count": 127,
     "metadata": {},
     "output_type": "execute_result"
    }
   ],
   "source": [
    "A.intersection(B)   #(& this symbol as intersection)"
   ]
  },
  {
   "cell_type": "code",
   "execution_count": 128,
   "id": "a5fe43fb",
   "metadata": {},
   "outputs": [
    {
     "data": {
      "text/plain": [
       "{4, 5}"
      ]
     },
     "execution_count": 128,
     "metadata": {},
     "output_type": "execute_result"
    }
   ],
   "source": [
    "\"\"\" \n",
    "Updates the set calling the intersection_update() method with the intersection o \n",
    "For below example Set A will be updated with the intersection of A & B. \n",
    "\"\"\" \n",
    "A.intersection_update(B)\n",
    "A"
   ]
  },
  {
   "cell_type": "markdown",
   "id": "1d9f1e64",
   "metadata": {},
   "source": [
    "Difference"
   ]
  },
  {
   "cell_type": "code",
   "execution_count": 2,
   "id": "4fc3daf0",
   "metadata": {},
   "outputs": [],
   "source": [
    " \n",
    "A = {1,2,3,4,5} \n",
    "B = {4,5,6,7,8} "
   ]
  },
  {
   "cell_type": "code",
   "execution_count": null,
   "id": "8da5ad85",
   "metadata": {},
   "outputs": [
    {
     "data": {
      "text/plain": [
       "{1, 2, 3}"
      ]
     },
     "execution_count": 3,
     "metadata": {},
     "output_type": "execute_result"
    }
   ],
   "source": [
    "A-B  # set of elements that are only in A but not in B"
   ]
  },
  {
   "cell_type": "code",
   "execution_count": null,
   "id": "8e489a95",
   "metadata": {},
   "outputs": [
    {
     "data": {
      "text/plain": [
       "{1, 2, 3}"
      ]
     },
     "execution_count": 4,
     "metadata": {},
     "output_type": "execute_result"
    }
   ],
   "source": [
    "A.difference(B)  # Difference of set"
   ]
  },
  {
   "cell_type": "code",
   "execution_count": null,
   "id": "acee7851",
   "metadata": {},
   "outputs": [
    {
     "data": {
      "text/plain": [
       "{6, 7, 8}"
      ]
     },
     "execution_count": 5,
     "metadata": {},
     "output_type": "execute_result"
    }
   ],
   "source": [
    "B-A   # set of elements that are only in B but in A"
   ]
  },
  {
   "cell_type": "code",
   "execution_count": 6,
   "id": "0cc3cc05",
   "metadata": {},
   "outputs": [
    {
     "data": {
      "text/plain": [
       "{6, 7, 8}"
      ]
     },
     "execution_count": 6,
     "metadata": {},
     "output_type": "execute_result"
    }
   ],
   "source": [
    "B.difference(A)"
   ]
  },
  {
   "cell_type": "code",
   "execution_count": 7,
   "id": "738bab6e",
   "metadata": {},
   "outputs": [
    {
     "data": {
      "text/plain": [
       "{6, 7, 8}"
      ]
     },
     "execution_count": 7,
     "metadata": {},
     "output_type": "execute_result"
    }
   ],
   "source": [
    "\"\"\" \n",
    "Updates the set calling the difference_update() method with the difference of se \n",
    "For below example Set B will be updated with the difference of B & A. \n",
    "\"\"\" \n",
    "B.difference_update(A)\n",
    "B"
   ]
  },
  {
   "cell_type": "markdown",
   "id": "88be039a",
   "metadata": {},
   "source": [
    "Symmetric Difference"
   ]
  },
  {
   "cell_type": "code",
   "execution_count": 9,
   "id": "d479f5a1",
   "metadata": {},
   "outputs": [],
   "source": [
    "A = {1,2,3,4,5} \n",
    "B = {4,5,6,7,8} "
   ]
  },
  {
   "cell_type": "code",
   "execution_count": null,
   "id": "c24f4cc9",
   "metadata": {},
   "outputs": [
    {
     "data": {
      "text/plain": [
       "{1, 2, 3, 6, 7, 8}"
      ]
     },
     "execution_count": 10,
     "metadata": {},
     "output_type": "execute_result"
    }
   ],
   "source": [
    "A^B  # symmetric difference (set of elements in A and But not in both)"
   ]
  },
  {
   "cell_type": "code",
   "execution_count": 11,
   "id": "e7adf942",
   "metadata": {},
   "outputs": [
    {
     "data": {
      "text/plain": [
       "{1, 2, 3, 6, 7, 8}"
      ]
     },
     "execution_count": 11,
     "metadata": {},
     "output_type": "execute_result"
    }
   ],
   "source": [
    "A.symmetric_difference(B)"
   ]
  },
  {
   "cell_type": "code",
   "execution_count": 12,
   "id": "e12a4d54",
   "metadata": {},
   "outputs": [
    {
     "data": {
      "text/plain": [
       "{1, 2, 3, 6, 7, 8}"
      ]
     },
     "execution_count": 12,
     "metadata": {},
     "output_type": "execute_result"
    }
   ],
   "source": [
    "\"\"\" \n",
    "Updates the set calling the symmetric_difference_update() method with the symmet \n",
    "For below example Set A will be updated with the symmetric difference of A & B. \n",
    "\"\"\" \n",
    "A.symmetric_difference_update(B)\n",
    "A"
   ]
  },
  {
   "cell_type": "markdown",
   "id": "9c06be68",
   "metadata": {},
   "source": [
    "Subset, Superset & Disjoint"
   ]
  },
  {
   "cell_type": "code",
   "execution_count": 13,
   "id": "2ed6fb8b",
   "metadata": {},
   "outputs": [],
   "source": [
    "A = {1,2,3,4,5,6,7,8,9} \n",
    "B = {3,4,5,6,7,8} \n",
    "C = {10,20,30,40}"
   ]
  },
  {
   "cell_type": "code",
   "execution_count": 14,
   "id": "a33134dc",
   "metadata": {},
   "outputs": [
    {
     "data": {
      "text/plain": [
       "True"
      ]
     },
     "execution_count": 14,
     "metadata": {},
     "output_type": "execute_result"
    }
   ],
   "source": [
    "B.issubset(A)"
   ]
  },
  {
   "cell_type": "code",
   "execution_count": 15,
   "id": "e1155e6c",
   "metadata": {},
   "outputs": [
    {
     "data": {
      "text/plain": [
       "True"
      ]
     },
     "execution_count": 15,
     "metadata": {},
     "output_type": "execute_result"
    }
   ],
   "source": [
    "A.issuperset(B)"
   ]
  },
  {
   "cell_type": "code",
   "execution_count": 16,
   "id": "2548cbf6",
   "metadata": {},
   "outputs": [
    {
     "data": {
      "text/plain": [
       "True"
      ]
     },
     "execution_count": 16,
     "metadata": {},
     "output_type": "execute_result"
    }
   ],
   "source": [
    "C.isdisjoint(A)"
   ]
  },
  {
   "cell_type": "code",
   "execution_count": 17,
   "id": "67c10ad7",
   "metadata": {},
   "outputs": [
    {
     "data": {
      "text/plain": [
       "False"
      ]
     },
     "execution_count": 17,
     "metadata": {},
     "output_type": "execute_result"
    }
   ],
   "source": [
    "B.isdisjoint(A)"
   ]
  },
  {
   "cell_type": "markdown",
   "id": "3d63650c",
   "metadata": {},
   "source": [
    "Other Builtin functions"
   ]
  },
  {
   "cell_type": "code",
   "execution_count": 18,
   "id": "44452fd5",
   "metadata": {},
   "outputs": [
    {
     "data": {
      "text/plain": [
       "{1, 2, 3, 4, 5, 6, 7, 8, 9}"
      ]
     },
     "execution_count": 18,
     "metadata": {},
     "output_type": "execute_result"
    }
   ],
   "source": [
    "A"
   ]
  },
  {
   "cell_type": "code",
   "execution_count": 19,
   "id": "d3c05c1a",
   "metadata": {},
   "outputs": [
    {
     "data": {
      "text/plain": [
       "45"
      ]
     },
     "execution_count": 19,
     "metadata": {},
     "output_type": "execute_result"
    }
   ],
   "source": [
    "sum(A)"
   ]
  },
  {
   "cell_type": "code",
   "execution_count": 20,
   "id": "3b6dbc8e",
   "metadata": {},
   "outputs": [
    {
     "data": {
      "text/plain": [
       "9"
      ]
     },
     "execution_count": 20,
     "metadata": {},
     "output_type": "execute_result"
    }
   ],
   "source": [
    "max(A)"
   ]
  },
  {
   "cell_type": "code",
   "execution_count": 21,
   "id": "53e6a1b0",
   "metadata": {},
   "outputs": [
    {
     "data": {
      "text/plain": [
       "9"
      ]
     },
     "execution_count": 21,
     "metadata": {},
     "output_type": "execute_result"
    }
   ],
   "source": [
    "len(A)"
   ]
  },
  {
   "cell_type": "code",
   "execution_count": 22,
   "id": "2b308910",
   "metadata": {},
   "outputs": [
    {
     "data": {
      "text/plain": [
       "[(0, 1), (1, 2), (2, 3), (3, 4), (4, 5), (5, 6), (6, 7), (7, 8), (8, 9)]"
      ]
     },
     "execution_count": 22,
     "metadata": {},
     "output_type": "execute_result"
    }
   ],
   "source": [
    "list(enumerate(A))"
   ]
  },
  {
   "cell_type": "code",
   "execution_count": 25,
   "id": "2e956ddd",
   "metadata": {},
   "outputs": [
    {
     "data": {
      "text/plain": [
       "[9, 8, 7, 6, 5, 4, 3, 2, 1]"
      ]
     },
     "execution_count": 25,
     "metadata": {},
     "output_type": "execute_result"
    }
   ],
   "source": [
    "D= sorted(A, reverse=True)\n",
    "D"
   ]
  },
  {
   "cell_type": "code",
   "execution_count": 26,
   "id": "614492d9",
   "metadata": {},
   "outputs": [
    {
     "data": {
      "text/plain": [
       "[1, 2, 3, 4, 5, 6, 7, 8, 9]"
      ]
     },
     "execution_count": 26,
     "metadata": {},
     "output_type": "execute_result"
    }
   ],
   "source": [
    "sorted(D)"
   ]
  },
  {
   "cell_type": "markdown",
   "id": "84464c99",
   "metadata": {},
   "source": [
    "Dictionary\n",
    "\n",
    "* dictonary is a mutuable data type in python.\n",
    "* A python dictonary is a collection of key and value pairs separated by a colon(:) and enclosed in curly braces {}.\n",
    "* Key must be unique in a dictonary. dupicate values are alloewd."
   ]
  },
  {
   "cell_type": "markdown",
   "id": "5d3d9693",
   "metadata": {},
   "source": [
    "Creat Dictonary"
   ]
  },
  {
   "cell_type": "code",
   "execution_count": 28,
   "id": "e0ed9863",
   "metadata": {},
   "outputs": [
    {
     "data": {
      "text/plain": [
       "{}"
      ]
     },
     "execution_count": 28,
     "metadata": {},
     "output_type": "execute_result"
    }
   ],
   "source": [
    "mydict = dict()  # empty dictonary\n",
    "mydict"
   ]
  },
  {
   "cell_type": "code",
   "execution_count": null,
   "id": "20a1f0d5",
   "metadata": {},
   "outputs": [
    {
     "data": {
      "text/plain": [
       "{}"
      ]
     },
     "execution_count": 30,
     "metadata": {},
     "output_type": "execute_result"
    }
   ],
   "source": [
    "mydict = {}  # empty dictonary\n",
    "mydict"
   ]
  },
  {
   "cell_type": "code",
   "execution_count": 32,
   "id": "1590063a",
   "metadata": {},
   "outputs": [
    {
     "data": {
      "text/plain": [
       "{1: 'one', 2: 'two', 3: 'three'}"
      ]
     },
     "execution_count": 32,
     "metadata": {},
     "output_type": "execute_result"
    }
   ],
   "source": [
    "mydict =  {1:'one' , 2:'two' , 3:'three'}  # dictonary with integer key\n",
    "mydict"
   ]
  },
  {
   "cell_type": "code",
   "execution_count": 33,
   "id": "5fa61f8f",
   "metadata": {},
   "outputs": [
    {
     "data": {
      "text/plain": [
       "{1: 'one', 2: 'two', 3: 'three'}"
      ]
     },
     "execution_count": 33,
     "metadata": {},
     "output_type": "execute_result"
    }
   ],
   "source": [
    "mydict = dict({ 1:'one' , 2:'two' , 3:'three'})  # create dictonary using dict()\n",
    "mydict"
   ]
  },
  {
   "cell_type": "code",
   "execution_count": 35,
   "id": "a068c1f1",
   "metadata": {},
   "outputs": [
    {
     "data": {
      "text/plain": [
       "{'A': 'one', 'B': 'two', 'C': 'three'}"
      ]
     },
     "execution_count": 35,
     "metadata": {},
     "output_type": "execute_result"
    }
   ],
   "source": [
    "mydict =  {'A':'one' , 'B':'two' , 'C':'three'} # dictonary with character key\n",
    "mydict"
   ]
  },
  {
   "cell_type": "code",
   "execution_count": 37,
   "id": "a9231ecf",
   "metadata": {},
   "outputs": [
    {
     "data": {
      "text/plain": [
       "{1: 'one', 'A': 'two', 3: 'three'}"
      ]
     },
     "execution_count": 37,
     "metadata": {},
     "output_type": "execute_result"
    }
   ],
   "source": [
    "mydict =  {1:'one' , 'A':'two' , 3:'three'}  # dictonary with mixed key\n",
    "mydict"
   ]
  },
  {
   "cell_type": "code",
   "execution_count": null,
   "id": "5a3272f1",
   "metadata": {},
   "outputs": [
    {
     "data": {
      "text/plain": [
       "dict_keys([1, 'A', 3])"
      ]
     },
     "execution_count": 38,
     "metadata": {},
     "output_type": "execute_result"
    }
   ],
   "source": [
    "mydict.keys() # returns dictonary using keys() method."
   ]
  },
  {
   "cell_type": "code",
   "execution_count": null,
   "id": "1dd39d1b",
   "metadata": {},
   "outputs": [
    {
     "data": {
      "text/plain": [
       "dict_values(['one', 'two', 'three'])"
      ]
     },
     "execution_count": 39,
     "metadata": {},
     "output_type": "execute_result"
    }
   ],
   "source": [
    "mydict.values()  # it print values"
   ]
  },
  {
   "cell_type": "code",
   "execution_count": null,
   "id": "07254413",
   "metadata": {},
   "outputs": [
    {
     "data": {
      "text/plain": [
       "dict_items([(1, 'one'), ('A', 'two'), (3, 'three')])"
      ]
     },
     "execution_count": 40,
     "metadata": {},
     "output_type": "execute_result"
    }
   ],
   "source": [
    "mydict.items()  # it print items\n"
   ]
  },
  {
   "cell_type": "code",
   "execution_count": 41,
   "id": "b0c4d622",
   "metadata": {},
   "outputs": [
    {
     "data": {
      "text/plain": [
       "{1: 'one', 2: 'two', 'A': ['asif', 'john', 'Maria']}"
      ]
     },
     "execution_count": 41,
     "metadata": {},
     "output_type": "execute_result"
    }
   ],
   "source": [
    "mydict = {1:'one' , 2:'two' , 'A':['asif' , 'john' , 'Maria']}\n",
    "mydict"
   ]
  },
  {
   "cell_type": "code",
   "execution_count": 42,
   "id": "1f29f5c8",
   "metadata": {},
   "outputs": [
    {
     "data": {
      "text/plain": [
       "{'d': None, 'a': None, 'b': None, 'c': None}"
      ]
     },
     "execution_count": 42,
     "metadata": {},
     "output_type": "execute_result"
    }
   ],
   "source": [
    "key ={'a','b','c','d'}\n",
    "value=10\n",
    "mydict3=dict.fromkeys(key)\n",
    "mydict3"
   ]
  },
  {
   "cell_type": "code",
   "execution_count": 43,
   "id": "5e913c0a",
   "metadata": {},
   "outputs": [
    {
     "data": {
      "text/plain": [
       "{'d': 10, 'a': 10, 'b': 10, 'c': 10}"
      ]
     },
     "execution_count": 43,
     "metadata": {},
     "output_type": "execute_result"
    }
   ],
   "source": [
    "key ={'a','b','c','d'}\n",
    "value=10\n",
    "mydict3=dict.fromkeys(key,value)\n",
    "mydict3"
   ]
  },
  {
   "cell_type": "code",
   "execution_count": 44,
   "id": "0e1b2106",
   "metadata": {},
   "outputs": [
    {
     "data": {
      "text/plain": [
       "{'d': [10, 20, 30], 'a': [10, 20, 30], 'b': [10, 20, 30], 'c': [10, 20, 30]}"
      ]
     },
     "execution_count": 44,
     "metadata": {},
     "output_type": "execute_result"
    }
   ],
   "source": [
    "key ={'a','b','c','d'}\n",
    "value=[10,20,30]\n",
    "mydict3=dict.fromkeys(key,value)\n",
    "mydict3"
   ]
  },
  {
   "cell_type": "code",
   "execution_count": 45,
   "id": "03b15308",
   "metadata": {},
   "outputs": [
    {
     "data": {
      "text/plain": [
       "{'d': [10, 20, 30, 40],\n",
       " 'a': [10, 20, 30, 40],\n",
       " 'b': [10, 20, 30, 40],\n",
       " 'c': [10, 20, 30, 40]}"
      ]
     },
     "execution_count": 45,
     "metadata": {},
     "output_type": "execute_result"
    }
   ],
   "source": [
    "value.append(40)\n",
    "mydict3"
   ]
  },
  {
   "cell_type": "markdown",
   "id": "6a8d23ee",
   "metadata": {},
   "source": [
    "Accessing items"
   ]
  },
  {
   "cell_type": "code",
   "execution_count": 46,
   "id": "c5a39ee8",
   "metadata": {},
   "outputs": [
    {
     "data": {
      "text/plain": [
       "{1: 'one', 2: 'two', 'A': ['asif', 'john', 'Maria']}"
      ]
     },
     "execution_count": 46,
     "metadata": {},
     "output_type": "execute_result"
    }
   ],
   "source": [
    "mydict "
   ]
  },
  {
   "cell_type": "code",
   "execution_count": null,
   "id": "bf377c23",
   "metadata": {},
   "outputs": [
    {
     "data": {
      "text/plain": [
       "'one'"
      ]
     },
     "execution_count": 47,
     "metadata": {},
     "output_type": "execute_result"
    }
   ],
   "source": [
    "mydict[1]  # Access items using key"
   ]
  },
  {
   "cell_type": "code",
   "execution_count": 48,
   "id": "7ae07361",
   "metadata": {},
   "outputs": [
    {
     "data": {
      "text/plain": [
       "'one'"
      ]
     },
     "execution_count": 48,
     "metadata": {},
     "output_type": "execute_result"
    }
   ],
   "source": [
    "mydict.get(1)  # Access items using get() method"
   ]
  },
  {
   "cell_type": "code",
   "execution_count": 49,
   "id": "05711364",
   "metadata": {},
   "outputs": [
    {
     "data": {
      "text/plain": [
       "{'Name': 'som', 'ID': 74123, 'DOB': 2000, 'job': 'IT'}"
      ]
     },
     "execution_count": 49,
     "metadata": {},
     "output_type": "execute_result"
    }
   ],
   "source": [
    "mydict1 =  {'Name':'som' , 'ID': 74123 , 'DOB': 2000 , 'job' :'IT'} \n",
    "mydict1"
   ]
  },
  {
   "cell_type": "code",
   "execution_count": null,
   "id": "cf83f709",
   "metadata": {},
   "outputs": [
    {
     "data": {
      "text/plain": [
       "'som'"
      ]
     },
     "execution_count": 51,
     "metadata": {},
     "output_type": "execute_result"
    }
   ],
   "source": [
    "mydict1['Name'] #access items using key"
   ]
  },
  {
   "cell_type": "code",
   "execution_count": 52,
   "id": "dc5c5b08",
   "metadata": {},
   "outputs": [
    {
     "data": {
      "text/plain": [
       "2000"
      ]
     },
     "execution_count": 52,
     "metadata": {},
     "output_type": "execute_result"
    }
   ],
   "source": [
    "mydict1['DOB']"
   ]
  },
  {
   "cell_type": "markdown",
   "id": "12b51417",
   "metadata": {},
   "source": [
    "Add, Remove & Change items"
   ]
  },
  {
   "cell_type": "code",
   "execution_count": 53,
   "id": "8c420bc3",
   "metadata": {},
   "outputs": [
    {
     "data": {
      "text/plain": [
       "{'Name': 'som', 'ID': 74123, 'DOB': 2000, 'job': 'IT'}"
      ]
     },
     "execution_count": 53,
     "metadata": {},
     "output_type": "execute_result"
    }
   ],
   "source": [
    "mydict1"
   ]
  },
  {
   "cell_type": "code",
   "execution_count": null,
   "id": "1f7f50e9",
   "metadata": {},
   "outputs": [],
   "source": [
    "mydict1['ID']  = 814406  # change dictonary items"
   ]
  },
  {
   "cell_type": "code",
   "execution_count": 56,
   "id": "0b9ece3b",
   "metadata": {},
   "outputs": [
    {
     "data": {
      "text/plain": [
       "814406"
      ]
     },
     "execution_count": 56,
     "metadata": {},
     "output_type": "execute_result"
    }
   ],
   "source": [
    "mydict1.get('ID')"
   ]
  },
  {
   "cell_type": "code",
   "execution_count": 58,
   "id": "9c293711",
   "metadata": {},
   "outputs": [
    {
     "data": {
      "text/plain": [
       "{'Name': 'som', 'ID': 814406, 'DOB': 2001, 'job': 'IT'}"
      ]
     },
     "execution_count": 58,
     "metadata": {},
     "output_type": "execute_result"
    }
   ],
   "source": [
    "dict1 = {'DOB':2001}\n",
    "mydict1.update(dict1)\n",
    "mydict1"
   ]
  },
  {
   "cell_type": "code",
   "execution_count": 59,
   "id": "cc9d83c0",
   "metadata": {},
   "outputs": [
    {
     "data": {
      "text/plain": [
       "{'Name': 'som', 'ID': 814406, 'DOB': 2001, 'job': 'AI export'}"
      ]
     },
     "execution_count": 59,
     "metadata": {},
     "output_type": "execute_result"
    }
   ],
   "source": [
    "mydict1['job']= 'AI export'\n",
    "mydict1"
   ]
  },
  {
   "cell_type": "code",
   "execution_count": 60,
   "id": "e8d3d8c7",
   "metadata": {},
   "outputs": [
    {
     "data": {
      "text/plain": [
       "{'Name': 'som', 'DOB': 2001, 'job': 'AI export'}"
      ]
     },
     "execution_count": 60,
     "metadata": {},
     "output_type": "execute_result"
    }
   ],
   "source": [
    "mydict1.pop('ID')\n",
    "mydict1"
   ]
  },
  {
   "cell_type": "code",
   "execution_count": null,
   "id": "cbb2acec",
   "metadata": {},
   "outputs": [
    {
     "data": {
      "text/plain": [
       "{'Name': 'som', 'DOB': 2001}"
      ]
     },
     "execution_count": 61,
     "metadata": {},
     "output_type": "execute_result"
    }
   ],
   "source": [
    "mydict1.popitem()  # it remove items randomly\n",
    "mydict1"
   ]
  },
  {
   "cell_type": "code",
   "execution_count": 62,
   "id": "91a5f7df",
   "metadata": {},
   "outputs": [
    {
     "data": {
      "text/plain": [
       "{'Name': 'som', 'DOB': 2001}"
      ]
     },
     "execution_count": 62,
     "metadata": {},
     "output_type": "execute_result"
    }
   ],
   "source": [
    "mydict1"
   ]
  },
  {
   "cell_type": "code",
   "execution_count": 64,
   "id": "4f040882",
   "metadata": {},
   "outputs": [
    {
     "data": {
      "text/plain": [
       "{}"
      ]
     },
     "execution_count": 64,
     "metadata": {},
     "output_type": "execute_result"
    }
   ],
   "source": [
    "mydict1.clear()\n",
    "mydict1"
   ]
  },
  {
   "cell_type": "code",
   "execution_count": 66,
   "id": "7cb796c5",
   "metadata": {},
   "outputs": [
    {
     "ename": "NameError",
     "evalue": "name 'mydict1' is not defined",
     "output_type": "error",
     "traceback": [
      "\u001b[31m---------------------------------------------------------------------------\u001b[39m",
      "\u001b[31mNameError\u001b[39m                                 Traceback (most recent call last)",
      "\u001b[36mCell\u001b[39m\u001b[36m \u001b[39m\u001b[32mIn[66]\u001b[39m\u001b[32m, line 1\u001b[39m\n\u001b[32m----> \u001b[39m\u001b[32m1\u001b[39m \u001b[38;5;28;01mdel\u001b[39;00m \u001b[43mmydict1\u001b[49m\n\u001b[32m      2\u001b[39m mydict1\n",
      "\u001b[31mNameError\u001b[39m: name 'mydict1' is not defined"
     ]
    }
   ],
   "source": [
    "del mydict1\n",
    "mydict1"
   ]
  },
  {
   "cell_type": "markdown",
   "id": "6d6b2156",
   "metadata": {},
   "source": [
    "Copy Dictonary"
   ]
  },
  {
   "cell_type": "code",
   "execution_count": 68,
   "id": "f264102c",
   "metadata": {},
   "outputs": [
    {
     "data": {
      "text/plain": [
       "{'Name': 'Som', 'ID': 12345, 'DOB': 2000, 'Address': 'Odisha'}"
      ]
     },
     "execution_count": 68,
     "metadata": {},
     "output_type": "execute_result"
    }
   ],
   "source": [
    " \n",
    "mydict = {'Name':'Som' , 'ID': 12345 , 'DOB': 2000 , 'Address' : 'Odisha'}\n",
    "mydict"
   ]
  },
  {
   "cell_type": "code",
   "execution_count": 70,
   "id": "d0a96f77",
   "metadata": {},
   "outputs": [
    {
     "data": {
      "text/plain": [
       "{'Name': 'Som', 'ID': 12345, 'DOB': 2000, 'Address': 'Odisha'}"
      ]
     },
     "execution_count": 70,
     "metadata": {},
     "output_type": "execute_result"
    }
   ],
   "source": [
    "mydict1=mydict\n",
    "mydict1"
   ]
  },
  {
   "cell_type": "code",
   "execution_count": 71,
   "id": "a4e64d03",
   "metadata": {},
   "outputs": [
    {
     "data": {
      "text/plain": [
       "(1414422378304, 1414422378304)"
      ]
     },
     "execution_count": 71,
     "metadata": {},
     "output_type": "execute_result"
    }
   ],
   "source": [
    "id(mydict), id(mydict1)"
   ]
  },
  {
   "cell_type": "code",
   "execution_count": 73,
   "id": "0a9c7e90",
   "metadata": {},
   "outputs": [
    {
     "data": {
      "text/plain": [
       "{'Name': 'Som', 'ID': 12345, 'DOB': 2000, 'Address': 'Odisha'}"
      ]
     },
     "execution_count": 73,
     "metadata": {},
     "output_type": "execute_result"
    }
   ],
   "source": [
    "mydict2 = mydict.copy()\n",
    "mydict2"
   ]
  },
  {
   "cell_type": "code",
   "execution_count": 74,
   "id": "16a5da17",
   "metadata": {},
   "outputs": [
    {
     "data": {
      "text/plain": [
       "1414422659904"
      ]
     },
     "execution_count": 74,
     "metadata": {},
     "output_type": "execute_result"
    }
   ],
   "source": [
    "id(mydict2)"
   ]
  },
  {
   "cell_type": "code",
   "execution_count": null,
   "id": "b448560e",
   "metadata": {},
   "outputs": [
    {
     "data": {
      "text/plain": [
       "{'Name': 'Som', 'ID': 12345, 'DOB': 2000, 'Address': 'Odisha'}"
      ]
     },
     "execution_count": 75,
     "metadata": {},
     "output_type": "execute_result"
    }
   ],
   "source": [
    "mydict"
   ]
  },
  {
   "cell_type": "code",
   "execution_count": 77,
   "id": "db23f7b8",
   "metadata": {},
   "outputs": [
    {
     "data": {
      "text/plain": [
       "{'Name': 'Som', 'ID': 12345, 'DOB': 2000, 'Address': 'Ganjam'}"
      ]
     },
     "execution_count": 77,
     "metadata": {},
     "output_type": "execute_result"
    }
   ],
   "source": [
    "mydict1['Address'] = 'Ganjam'\n",
    "mydict1"
   ]
  },
  {
   "cell_type": "code",
   "execution_count": 78,
   "id": "c323ced6",
   "metadata": {},
   "outputs": [
    {
     "data": {
      "text/plain": [
       "{'Name': 'Som', 'ID': 12345, 'DOB': 2000, 'Address': 'Ganjam'}"
      ]
     },
     "execution_count": 78,
     "metadata": {},
     "output_type": "execute_result"
    }
   ],
   "source": [
    "mydict1"
   ]
  },
  {
   "cell_type": "code",
   "execution_count": 79,
   "id": "a8a66c46",
   "metadata": {},
   "outputs": [
    {
     "data": {
      "text/plain": [
       "{'Name': 'Som', 'ID': 12345, 'DOB': 2000, 'Address': 'Odisha'}"
      ]
     },
     "execution_count": 79,
     "metadata": {},
     "output_type": "execute_result"
    }
   ],
   "source": [
    "mydict2"
   ]
  },
  {
   "cell_type": "markdown",
   "id": "34149a71",
   "metadata": {},
   "source": [
    "Loop through a Dictonary"
   ]
  },
  {
   "cell_type": "code",
   "execution_count": 80,
   "id": "281d92df",
   "metadata": {},
   "outputs": [
    {
     "data": {
      "text/plain": [
       "{'Name': 'Som', 'ID': 12345, 'DOB': 2000, 'Address': 'Ganjam'}"
      ]
     },
     "execution_count": 80,
     "metadata": {},
     "output_type": "execute_result"
    }
   ],
   "source": [
    "mydict1"
   ]
  },
  {
   "cell_type": "code",
   "execution_count": 81,
   "id": "2046f7db",
   "metadata": {},
   "outputs": [
    {
     "name": "stdout",
     "output_type": "stream",
     "text": [
      "Name\n",
      "ID\n",
      "DOB\n",
      "Address\n"
     ]
    }
   ],
   "source": [
    "for i in mydict1:\n",
    "    print(i)"
   ]
  },
  {
   "cell_type": "code",
   "execution_count": 82,
   "id": "e9be169d",
   "metadata": {},
   "outputs": [
    {
     "name": "stdout",
     "output_type": "stream",
     "text": [
      "Name : Som\n",
      "ID : 12345\n",
      "DOB : 2000\n",
      "Address : Ganjam\n"
     ]
    }
   ],
   "source": [
    "for i in mydict1:\n",
    "    print(i, ':', mydict1[i])"
   ]
  },
  {
   "cell_type": "markdown",
   "id": "7c6953f4",
   "metadata": {},
   "source": [
    "Dictonary Membership"
   ]
  },
  {
   "cell_type": "code",
   "execution_count": 83,
   "id": "3be9524c",
   "metadata": {},
   "outputs": [
    {
     "data": {
      "text/plain": [
       "{'Name': 'Som', 'ID': 12345, 'DOB': 2000, 'Address': 'Ganjam'}"
      ]
     },
     "execution_count": 83,
     "metadata": {},
     "output_type": "execute_result"
    }
   ],
   "source": [
    "mydict1"
   ]
  },
  {
   "cell_type": "code",
   "execution_count": 84,
   "id": "21059c4c",
   "metadata": {},
   "outputs": [
    {
     "data": {
      "text/plain": [
       "True"
      ]
     },
     "execution_count": 84,
     "metadata": {},
     "output_type": "execute_result"
    }
   ],
   "source": [
    "'Name' in mydict1"
   ]
  },
  {
   "cell_type": "code",
   "execution_count": null,
   "id": "a62c7937",
   "metadata": {},
   "outputs": [
    {
     "data": {
      "text/plain": [
       "False"
      ]
     },
     "execution_count": 85,
     "metadata": {},
     "output_type": "execute_result"
    }
   ],
   "source": [
    "'Som' in mydict1  # membership test can be dony only done for keys."
   ]
  },
  {
   "cell_type": "code",
   "execution_count": 86,
   "id": "9caefe32",
   "metadata": {},
   "outputs": [
    {
     "data": {
      "text/plain": [
       "True"
      ]
     },
     "execution_count": 86,
     "metadata": {},
     "output_type": "execute_result"
    }
   ],
   "source": [
    "'ID' in mydict1"
   ]
  },
  {
   "cell_type": "code",
   "execution_count": 87,
   "id": "3608c313",
   "metadata": {},
   "outputs": [
    {
     "data": {
      "text/plain": [
       "True"
      ]
     },
     "execution_count": 87,
     "metadata": {},
     "output_type": "execute_result"
    }
   ],
   "source": [
    "'Address' in mydict1"
   ]
  },
  {
   "cell_type": "markdown",
   "id": "6d9a5007",
   "metadata": {},
   "source": [
    "All / Any\n",
    "\n",
    "The all() method return:\n",
    "\n",
    "* True - if all keys of the dictonary are true\n",
    "* False - if any key of the dictonary is false\n",
    "\n",
    "The any() function returns True if any key of the dictonary is True. if not, any() returns False."
   ]
  },
  {
   "cell_type": "code",
   "execution_count": 88,
   "id": "e8bf142b",
   "metadata": {},
   "outputs": [
    {
     "data": {
      "text/plain": [
       "{'Name': 'Som', 'ID': 12345, 'DOB': 2000, 'Address': 'Ganjam'}"
      ]
     },
     "execution_count": 88,
     "metadata": {},
     "output_type": "execute_result"
    }
   ],
   "source": [
    "mydict1"
   ]
  },
  {
   "cell_type": "code",
   "execution_count": 90,
   "id": "ac95daef",
   "metadata": {},
   "outputs": [
    {
     "data": {
      "text/plain": [
       "True"
      ]
     },
     "execution_count": 90,
     "metadata": {},
     "output_type": "execute_result"
    }
   ],
   "source": [
    "all(mydict1)  # will return false as one value is false (value 0)"
   ]
  }
 ],
 "metadata": {
  "kernelspec": {
   "display_name": "Python 3 (ipykernel)",
   "language": "python",
   "name": "python3"
  },
  "language_info": {
   "codemirror_mode": {
    "name": "ipython",
    "version": 3
   },
   "file_extension": ".py",
   "mimetype": "text/x-python",
   "name": "python",
   "nbconvert_exporter": "python",
   "pygments_lexer": "ipython3",
   "version": "3.13.5"
  }
 },
 "nbformat": 4,
 "nbformat_minor": 5
}
